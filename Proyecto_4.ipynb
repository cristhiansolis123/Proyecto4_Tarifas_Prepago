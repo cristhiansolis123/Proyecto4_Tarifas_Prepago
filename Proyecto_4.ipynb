{
  "cells": [
    {
      "cell_type": "markdown",
      "source": [
        "# Introducción\n"
      ],
      "metadata": {
        "id": "kB0a3c8WOZ_N"
      }
    },
    {
      "cell_type": "markdown",
      "source": [
        "La operadora de telecomunicaciones Megaline ofrece a sus clientes dos tarifas de prepago, Surf y Ultimate. El departamento comercial quiere saber cuál de los planes genera más ingresos para ajustar el presupuesto de publicidad. Para este proyecto se va a realizar un análisis preliminar de las tarifas basado en una selección de clientes relativamente pequeña. Se tendrán los datos de 500 clientes de Megaline: quiénes son los clientes, de dónde son, qué tarifa usan y la cantidad de llamadas que hicieron y los mensajes de texto que enviaron en 2018. El objetivo del proyecto es analizar el comportamiento de los clientes y determinar qué tarifa de prepago genera más ingresos. Mediante un análisis estadístico se describirá el comportamiento de los clientes y se probarán las siguientes hipótesis:\n",
        "\n",
        "- El ingreso promedio de los usuarios de las tarifas Ultimate y Surf difiere.\n",
        "- El ingreso promedio de los usuarios en el área de estados Nueva York-Nueva Jersey es diferente al de los usuarios de otras regiones."
      ],
      "metadata": {
        "id": "VQRG5OoxO_d6"
      }
    },
    {
      "cell_type": "markdown",
      "metadata": {
        "id": "gsuZPeutOLrs"
      },
      "source": [
        "# Inicialización"
      ]
    },
    {
      "cell_type": "code",
      "execution_count": null,
      "metadata": {
        "id": "6JCrTlyyOLrt"
      },
      "outputs": [],
      "source": [
        "# Cargar todas las librerías\n",
        "from scipy import stats as st\n",
        "import pandas as pd\n",
        "import numpy as np\n",
        "import math\n",
        "import matplotlib.pyplot as plt"
      ]
    },
    {
      "cell_type": "markdown",
      "metadata": {
        "id": "xceAyeg8OLrt"
      },
      "source": [
        "# Cargar los datos"
      ]
    },
    {
      "cell_type": "code",
      "execution_count": null,
      "metadata": {
        "id": "33y_9pLHOLru"
      },
      "outputs": [],
      "source": [
        "# Carga los archivos de datos en diferentes DataFrames\n",
        "calls = pd.read_csv('/datasets/megaline_calls.csv')\n",
        "internet = pd.read_csv('/datasets/megaline_internet.csv')\n",
        "messages = pd.read_csv('/datasets/megaline_messages.csv')\n",
        "plans = pd.read_csv('/datasets/megaline_plans.csv')\n",
        "users = pd.read_csv('/datasets/megaline_users.csv')"
      ]
    },
    {
      "cell_type": "markdown",
      "metadata": {
        "id": "0YSOvf86OLru"
      },
      "source": [
        "# Preparar los datos"
      ]
    },
    {
      "cell_type": "markdown",
      "metadata": {
        "id": "gcxecvNvOLru"
      },
      "source": [
        "Para prepar los datos se revisarán las tablas de los dataframes para revisar como se compone cada una y verificar los errores que se encuentren como valores ausentes, tipos de datos, valores incorrectos, etc."
      ]
    },
    {
      "cell_type": "markdown",
      "metadata": {
        "id": "v-VPYlf8OLru"
      },
      "source": [
        "## Planes"
      ]
    },
    {
      "cell_type": "code",
      "execution_count": null,
      "metadata": {
        "id": "LD5yeMonOLru",
        "outputId": "37eb18b1-5c5e-4063-9017-da01d0afa425"
      },
      "outputs": [
        {
          "name": "stdout",
          "output_type": "stream",
          "text": [
            "<class 'pandas.core.frame.DataFrame'>\n",
            "RangeIndex: 2 entries, 0 to 1\n",
            "Data columns (total 8 columns):\n",
            " #   Column                 Non-Null Count  Dtype  \n",
            "---  ------                 --------------  -----  \n",
            " 0   messages_included      2 non-null      int64  \n",
            " 1   mb_per_month_included  2 non-null      int64  \n",
            " 2   minutes_included       2 non-null      int64  \n",
            " 3   usd_monthly_pay        2 non-null      int64  \n",
            " 4   usd_per_gb             2 non-null      int64  \n",
            " 5   usd_per_message        2 non-null      float64\n",
            " 6   usd_per_minute         2 non-null      float64\n",
            " 7   plan_name              2 non-null      object \n",
            "dtypes: float64(2), int64(5), object(1)\n",
            "memory usage: 256.0+ bytes\n"
          ]
        }
      ],
      "source": [
        "# Imprime la información general/resumen sobre el DataFrame de los planes\n",
        "plans.info()"
      ]
    },
    {
      "cell_type": "code",
      "execution_count": null,
      "metadata": {
        "id": "RPer_nW1OLrv",
        "outputId": "84feb411-2dda-4d24-ba05-9271cbe52029"
      },
      "outputs": [
        {
          "data": {
            "text/html": [
              "<div>\n",
              "<style scoped>\n",
              "    .dataframe tbody tr th:only-of-type {\n",
              "        vertical-align: middle;\n",
              "    }\n",
              "\n",
              "    .dataframe tbody tr th {\n",
              "        vertical-align: top;\n",
              "    }\n",
              "\n",
              "    .dataframe thead th {\n",
              "        text-align: right;\n",
              "    }\n",
              "</style>\n",
              "<table border=\"1\" class=\"dataframe\">\n",
              "  <thead>\n",
              "    <tr style=\"text-align: right;\">\n",
              "      <th></th>\n",
              "      <th>messages_included</th>\n",
              "      <th>mb_per_month_included</th>\n",
              "      <th>minutes_included</th>\n",
              "      <th>usd_monthly_pay</th>\n",
              "      <th>usd_per_gb</th>\n",
              "      <th>usd_per_message</th>\n",
              "      <th>usd_per_minute</th>\n",
              "      <th>plan_name</th>\n",
              "    </tr>\n",
              "  </thead>\n",
              "  <tbody>\n",
              "    <tr>\n",
              "      <th>0</th>\n",
              "      <td>50</td>\n",
              "      <td>15360</td>\n",
              "      <td>500</td>\n",
              "      <td>20</td>\n",
              "      <td>10</td>\n",
              "      <td>0.03</td>\n",
              "      <td>0.03</td>\n",
              "      <td>surf</td>\n",
              "    </tr>\n",
              "    <tr>\n",
              "      <th>1</th>\n",
              "      <td>1000</td>\n",
              "      <td>30720</td>\n",
              "      <td>3000</td>\n",
              "      <td>70</td>\n",
              "      <td>7</td>\n",
              "      <td>0.01</td>\n",
              "      <td>0.01</td>\n",
              "      <td>ultimate</td>\n",
              "    </tr>\n",
              "  </tbody>\n",
              "</table>\n",
              "</div>"
            ],
            "text/plain": [
              "   messages_included  mb_per_month_included  minutes_included  \\\n",
              "0                 50                  15360               500   \n",
              "1               1000                  30720              3000   \n",
              "\n",
              "   usd_monthly_pay  usd_per_gb  usd_per_message  usd_per_minute plan_name  \n",
              "0               20          10             0.03            0.03      surf  \n",
              "1               70           7             0.01            0.01  ultimate  "
            ]
          },
          "execution_count": 4,
          "metadata": {},
          "output_type": "execute_result"
        }
      ],
      "source": [
        "# Imprime una muestra de los datos para los planes\n",
        "plans.head()"
      ]
    },
    {
      "cell_type": "markdown",
      "metadata": {
        "id": "QV09d0-GOLrv"
      },
      "source": [
        "La tabla de \"Planes\" se compone de 2 filas con 8 columnas, las cuales no tienen mayor problema y no hay datos por corregir."
      ]
    },
    {
      "cell_type": "markdown",
      "metadata": {
        "id": "Vd2_-yG9OLrv"
      },
      "source": [
        "## Usuarios"
      ]
    },
    {
      "cell_type": "code",
      "execution_count": null,
      "metadata": {
        "id": "l0n8iKNaOLrv",
        "outputId": "022a638c-896e-4748-e2c6-fd1c35b0b796"
      },
      "outputs": [
        {
          "name": "stdout",
          "output_type": "stream",
          "text": [
            "<class 'pandas.core.frame.DataFrame'>\n",
            "RangeIndex: 500 entries, 0 to 499\n",
            "Data columns (total 8 columns):\n",
            " #   Column      Non-Null Count  Dtype \n",
            "---  ------      --------------  ----- \n",
            " 0   user_id     500 non-null    int64 \n",
            " 1   first_name  500 non-null    object\n",
            " 2   last_name   500 non-null    object\n",
            " 3   age         500 non-null    int64 \n",
            " 4   city        500 non-null    object\n",
            " 5   reg_date    500 non-null    object\n",
            " 6   plan        500 non-null    object\n",
            " 7   churn_date  34 non-null     object\n",
            "dtypes: int64(2), object(6)\n",
            "memory usage: 31.4+ KB\n"
          ]
        }
      ],
      "source": [
        "# Imprime la información general/resumen sobre el DataFrame de los usuarios\n",
        "users.info()"
      ]
    },
    {
      "cell_type": "code",
      "execution_count": null,
      "metadata": {
        "id": "PJj_l1SoOLrw",
        "outputId": "049de642-52d7-47fc-e381-791feb0cb619"
      },
      "outputs": [
        {
          "data": {
            "text/html": [
              "<div>\n",
              "<style scoped>\n",
              "    .dataframe tbody tr th:only-of-type {\n",
              "        vertical-align: middle;\n",
              "    }\n",
              "\n",
              "    .dataframe tbody tr th {\n",
              "        vertical-align: top;\n",
              "    }\n",
              "\n",
              "    .dataframe thead th {\n",
              "        text-align: right;\n",
              "    }\n",
              "</style>\n",
              "<table border=\"1\" class=\"dataframe\">\n",
              "  <thead>\n",
              "    <tr style=\"text-align: right;\">\n",
              "      <th></th>\n",
              "      <th>user_id</th>\n",
              "      <th>first_name</th>\n",
              "      <th>last_name</th>\n",
              "      <th>age</th>\n",
              "      <th>city</th>\n",
              "      <th>reg_date</th>\n",
              "      <th>plan</th>\n",
              "      <th>churn_date</th>\n",
              "    </tr>\n",
              "  </thead>\n",
              "  <tbody>\n",
              "    <tr>\n",
              "      <th>0</th>\n",
              "      <td>1000</td>\n",
              "      <td>Anamaria</td>\n",
              "      <td>Bauer</td>\n",
              "      <td>45</td>\n",
              "      <td>Atlanta-Sandy Springs-Roswell, GA MSA</td>\n",
              "      <td>2018-12-24</td>\n",
              "      <td>ultimate</td>\n",
              "      <td>NaN</td>\n",
              "    </tr>\n",
              "    <tr>\n",
              "      <th>1</th>\n",
              "      <td>1001</td>\n",
              "      <td>Mickey</td>\n",
              "      <td>Wilkerson</td>\n",
              "      <td>28</td>\n",
              "      <td>Seattle-Tacoma-Bellevue, WA MSA</td>\n",
              "      <td>2018-08-13</td>\n",
              "      <td>surf</td>\n",
              "      <td>NaN</td>\n",
              "    </tr>\n",
              "    <tr>\n",
              "      <th>2</th>\n",
              "      <td>1002</td>\n",
              "      <td>Carlee</td>\n",
              "      <td>Hoffman</td>\n",
              "      <td>36</td>\n",
              "      <td>Las Vegas-Henderson-Paradise, NV MSA</td>\n",
              "      <td>2018-10-21</td>\n",
              "      <td>surf</td>\n",
              "      <td>NaN</td>\n",
              "    </tr>\n",
              "    <tr>\n",
              "      <th>3</th>\n",
              "      <td>1003</td>\n",
              "      <td>Reynaldo</td>\n",
              "      <td>Jenkins</td>\n",
              "      <td>52</td>\n",
              "      <td>Tulsa, OK MSA</td>\n",
              "      <td>2018-01-28</td>\n",
              "      <td>surf</td>\n",
              "      <td>NaN</td>\n",
              "    </tr>\n",
              "    <tr>\n",
              "      <th>4</th>\n",
              "      <td>1004</td>\n",
              "      <td>Leonila</td>\n",
              "      <td>Thompson</td>\n",
              "      <td>40</td>\n",
              "      <td>Seattle-Tacoma-Bellevue, WA MSA</td>\n",
              "      <td>2018-05-23</td>\n",
              "      <td>surf</td>\n",
              "      <td>NaN</td>\n",
              "    </tr>\n",
              "  </tbody>\n",
              "</table>\n",
              "</div>"
            ],
            "text/plain": [
              "   user_id first_name  last_name  age                                   city  \\\n",
              "0     1000   Anamaria      Bauer   45  Atlanta-Sandy Springs-Roswell, GA MSA   \n",
              "1     1001     Mickey  Wilkerson   28        Seattle-Tacoma-Bellevue, WA MSA   \n",
              "2     1002     Carlee    Hoffman   36   Las Vegas-Henderson-Paradise, NV MSA   \n",
              "3     1003   Reynaldo    Jenkins   52                          Tulsa, OK MSA   \n",
              "4     1004    Leonila   Thompson   40        Seattle-Tacoma-Bellevue, WA MSA   \n",
              "\n",
              "     reg_date      plan churn_date  \n",
              "0  2018-12-24  ultimate        NaN  \n",
              "1  2018-08-13      surf        NaN  \n",
              "2  2018-10-21      surf        NaN  \n",
              "3  2018-01-28      surf        NaN  \n",
              "4  2018-05-23      surf        NaN  "
            ]
          },
          "execution_count": 6,
          "metadata": {},
          "output_type": "execute_result"
        }
      ],
      "source": [
        "# Imprime una muestra de los datos para los usuarios\n",
        "users.head()"
      ]
    },
    {
      "cell_type": "markdown",
      "metadata": {
        "id": "TYU9LmNPOLrw"
      },
      "source": [
        "La tabla users tiene 500 filas y 8 columnas. La columna churn_date tiene datos ausentes, pero esto es debido a que cuando fueron tomados estos datos, los usuarios permanecian activos con el plan, por tal motivo a los datos ausentes de esta columna los cambiaremos por la palabra \"active\"."
      ]
    },
    {
      "cell_type": "markdown",
      "metadata": {
        "id": "0h6t_Hw0OLrw"
      },
      "source": [
        "### Corregir datos"
      ]
    },
    {
      "cell_type": "code",
      "execution_count": null,
      "metadata": {
        "id": "KjWICLeSOLrw"
      },
      "outputs": [],
      "source": [
        "users['churn_date'] = users['churn_date'].fillna('active')"
      ]
    },
    {
      "cell_type": "code",
      "execution_count": null,
      "metadata": {
        "id": "STUxwGv8OLrw",
        "outputId": "a9f6f30c-913a-4735-cae4-40c6dd25dba8"
      },
      "outputs": [
        {
          "data": {
            "text/plain": [
              "0"
            ]
          },
          "execution_count": 8,
          "metadata": {},
          "output_type": "execute_result"
        }
      ],
      "source": [
        "users['churn_date'].isna().sum()"
      ]
    },
    {
      "cell_type": "markdown",
      "metadata": {
        "id": "5VxZWohhOLrw"
      },
      "source": [
        "### Enriquecer datos"
      ]
    },
    {
      "cell_type": "code",
      "execution_count": null,
      "metadata": {
        "id": "Evfyp_A4OLrw"
      },
      "outputs": [],
      "source": [
        "users=users.rename(columns={'plan': 'plan_name'})"
      ]
    },
    {
      "cell_type": "markdown",
      "metadata": {
        "id": "Lq3SQeQgOLrw"
      },
      "source": [
        "## Llamadas"
      ]
    },
    {
      "cell_type": "code",
      "execution_count": null,
      "metadata": {
        "id": "9lqLR4dAOLrw",
        "outputId": "06943b2c-bb79-4ad9-add7-b544da6e054f"
      },
      "outputs": [
        {
          "name": "stdout",
          "output_type": "stream",
          "text": [
            "<class 'pandas.core.frame.DataFrame'>\n",
            "RangeIndex: 137735 entries, 0 to 137734\n",
            "Data columns (total 4 columns):\n",
            " #   Column     Non-Null Count   Dtype  \n",
            "---  ------     --------------   -----  \n",
            " 0   id         137735 non-null  object \n",
            " 1   user_id    137735 non-null  int64  \n",
            " 2   call_date  137735 non-null  object \n",
            " 3   duration   137735 non-null  float64\n",
            "dtypes: float64(1), int64(1), object(2)\n",
            "memory usage: 4.2+ MB\n",
            "\n"
          ]
        },
        {
          "data": {
            "text/html": [
              "<div>\n",
              "<style scoped>\n",
              "    .dataframe tbody tr th:only-of-type {\n",
              "        vertical-align: middle;\n",
              "    }\n",
              "\n",
              "    .dataframe tbody tr th {\n",
              "        vertical-align: top;\n",
              "    }\n",
              "\n",
              "    .dataframe thead th {\n",
              "        text-align: right;\n",
              "    }\n",
              "</style>\n",
              "<table border=\"1\" class=\"dataframe\">\n",
              "  <thead>\n",
              "    <tr style=\"text-align: right;\">\n",
              "      <th></th>\n",
              "      <th>user_id</th>\n",
              "      <th>duration</th>\n",
              "    </tr>\n",
              "  </thead>\n",
              "  <tbody>\n",
              "    <tr>\n",
              "      <th>count</th>\n",
              "      <td>137735.000000</td>\n",
              "      <td>137735.000000</td>\n",
              "    </tr>\n",
              "    <tr>\n",
              "      <th>mean</th>\n",
              "      <td>1247.658046</td>\n",
              "      <td>6.745927</td>\n",
              "    </tr>\n",
              "    <tr>\n",
              "      <th>std</th>\n",
              "      <td>139.416268</td>\n",
              "      <td>5.839241</td>\n",
              "    </tr>\n",
              "    <tr>\n",
              "      <th>min</th>\n",
              "      <td>1000.000000</td>\n",
              "      <td>0.000000</td>\n",
              "    </tr>\n",
              "    <tr>\n",
              "      <th>25%</th>\n",
              "      <td>1128.000000</td>\n",
              "      <td>1.290000</td>\n",
              "    </tr>\n",
              "    <tr>\n",
              "      <th>50%</th>\n",
              "      <td>1247.000000</td>\n",
              "      <td>5.980000</td>\n",
              "    </tr>\n",
              "    <tr>\n",
              "      <th>75%</th>\n",
              "      <td>1365.000000</td>\n",
              "      <td>10.690000</td>\n",
              "    </tr>\n",
              "    <tr>\n",
              "      <th>max</th>\n",
              "      <td>1499.000000</td>\n",
              "      <td>37.600000</td>\n",
              "    </tr>\n",
              "  </tbody>\n",
              "</table>\n",
              "</div>"
            ],
            "text/plain": [
              "             user_id       duration\n",
              "count  137735.000000  137735.000000\n",
              "mean     1247.658046       6.745927\n",
              "std       139.416268       5.839241\n",
              "min      1000.000000       0.000000\n",
              "25%      1128.000000       1.290000\n",
              "50%      1247.000000       5.980000\n",
              "75%      1365.000000      10.690000\n",
              "max      1499.000000      37.600000"
            ]
          },
          "execution_count": 10,
          "metadata": {},
          "output_type": "execute_result"
        }
      ],
      "source": [
        "# Imprime la información/resumen general sobre el DataFrame de las llamadas\n",
        "calls.info()\n",
        "print()\n",
        "calls.describe()"
      ]
    },
    {
      "cell_type": "code",
      "execution_count": null,
      "metadata": {
        "id": "DGdyzZ-COLrx",
        "outputId": "c8cc7470-9657-4f45-ec2f-a7d809a25810"
      },
      "outputs": [
        {
          "data": {
            "text/html": [
              "<div>\n",
              "<style scoped>\n",
              "    .dataframe tbody tr th:only-of-type {\n",
              "        vertical-align: middle;\n",
              "    }\n",
              "\n",
              "    .dataframe tbody tr th {\n",
              "        vertical-align: top;\n",
              "    }\n",
              "\n",
              "    .dataframe thead th {\n",
              "        text-align: right;\n",
              "    }\n",
              "</style>\n",
              "<table border=\"1\" class=\"dataframe\">\n",
              "  <thead>\n",
              "    <tr style=\"text-align: right;\">\n",
              "      <th></th>\n",
              "      <th>id</th>\n",
              "      <th>user_id</th>\n",
              "      <th>call_date</th>\n",
              "      <th>duration</th>\n",
              "    </tr>\n",
              "  </thead>\n",
              "  <tbody>\n",
              "    <tr>\n",
              "      <th>0</th>\n",
              "      <td>1000_93</td>\n",
              "      <td>1000</td>\n",
              "      <td>2018-12-27</td>\n",
              "      <td>8.52</td>\n",
              "    </tr>\n",
              "    <tr>\n",
              "      <th>1</th>\n",
              "      <td>1000_145</td>\n",
              "      <td>1000</td>\n",
              "      <td>2018-12-27</td>\n",
              "      <td>13.66</td>\n",
              "    </tr>\n",
              "    <tr>\n",
              "      <th>2</th>\n",
              "      <td>1000_247</td>\n",
              "      <td>1000</td>\n",
              "      <td>2018-12-27</td>\n",
              "      <td>14.48</td>\n",
              "    </tr>\n",
              "    <tr>\n",
              "      <th>3</th>\n",
              "      <td>1000_309</td>\n",
              "      <td>1000</td>\n",
              "      <td>2018-12-28</td>\n",
              "      <td>5.76</td>\n",
              "    </tr>\n",
              "    <tr>\n",
              "      <th>4</th>\n",
              "      <td>1000_380</td>\n",
              "      <td>1000</td>\n",
              "      <td>2018-12-30</td>\n",
              "      <td>4.22</td>\n",
              "    </tr>\n",
              "  </tbody>\n",
              "</table>\n",
              "</div>"
            ],
            "text/plain": [
              "         id  user_id   call_date  duration\n",
              "0   1000_93     1000  2018-12-27      8.52\n",
              "1  1000_145     1000  2018-12-27     13.66\n",
              "2  1000_247     1000  2018-12-27     14.48\n",
              "3  1000_309     1000  2018-12-28      5.76\n",
              "4  1000_380     1000  2018-12-30      4.22"
            ]
          },
          "execution_count": 11,
          "metadata": {},
          "output_type": "execute_result"
        }
      ],
      "source": [
        "# Imprime una muestra de datos para llamadas\n",
        "calls.head()"
      ]
    },
    {
      "cell_type": "markdown",
      "metadata": {
        "id": "PvIqB8iWOLrx"
      },
      "source": [
        "La tabla de calls tiene 137735 filas y 4 columnas. Las cuales detallan los movimientos de cada usuario. Se encuentran llamadas con una duración de 0 minutos, las cuales representan a llamadas perdidas o no contestadas. No se encuentran valores ausentes. Se va a revisar la cantidad de filas con valor de 0 para tomar una decisión acerca de que si se eliminan los valores o no."
      ]
    },
    {
      "cell_type": "markdown",
      "metadata": {
        "id": "HhPDM5hrOLrx"
      },
      "source": [
        "### Corregir datos"
      ]
    },
    {
      "cell_type": "code",
      "execution_count": null,
      "metadata": {
        "id": "eyw0ajPqOLrx",
        "outputId": "94359826-f425-414c-9734-fc3b7036f523"
      },
      "outputs": [
        {
          "data": {
            "text/plain": [
              "id           26834\n",
              "user_id      26834\n",
              "call_date    26834\n",
              "duration     26834\n",
              "dtype: int64"
            ]
          },
          "execution_count": 12,
          "metadata": {},
          "output_type": "execute_result"
        }
      ],
      "source": [
        "calls.query('duration == 0').count()"
      ]
    },
    {
      "cell_type": "code",
      "execution_count": null,
      "metadata": {
        "id": "mKbtmA07OLrx"
      },
      "outputs": [],
      "source": [
        "calls['duration'] = np.ceil(calls['duration'])"
      ]
    },
    {
      "cell_type": "markdown",
      "metadata": {
        "id": "5KNevvt3OLrx"
      },
      "source": [
        "El porcentaje de llamadas con valor \"0\" es del 19%, es un valor representativo, por tal motivo no se pueden eliminar esos valores, esas llamadas se las va a mantender en el valor de \"0\", ya que después al sumar los valores totales por usuario no me afectará al resultado. Se agregará una columna que me indique el mes de cada call_date y se redondeó hacia arriba los valores de la duración de las llamadas."
      ]
    },
    {
      "cell_type": "markdown",
      "metadata": {
        "id": "s9qMqgxIOLrx"
      },
      "source": [
        "Hola Carlos, gracias por el comentario, ya realicé esta modificación"
      ]
    },
    {
      "cell_type": "markdown",
      "metadata": {
        "id": "UV4jfJxlOLrx"
      },
      "source": [
        "### Enriquecer datos"
      ]
    },
    {
      "cell_type": "code",
      "execution_count": null,
      "metadata": {
        "id": "Zeb9ejl7OLrx"
      },
      "outputs": [],
      "source": [
        "calls['month']=pd.DatetimeIndex(calls['call_date']).month"
      ]
    },
    {
      "cell_type": "code",
      "execution_count": null,
      "metadata": {
        "id": "x6i4SgTrOLrx",
        "outputId": "d9ef6a7e-5d15-42b2-9b0a-8d52f08617d2"
      },
      "outputs": [
        {
          "data": {
            "text/html": [
              "<div>\n",
              "<style scoped>\n",
              "    .dataframe tbody tr th:only-of-type {\n",
              "        vertical-align: middle;\n",
              "    }\n",
              "\n",
              "    .dataframe tbody tr th {\n",
              "        vertical-align: top;\n",
              "    }\n",
              "\n",
              "    .dataframe thead th {\n",
              "        text-align: right;\n",
              "    }\n",
              "</style>\n",
              "<table border=\"1\" class=\"dataframe\">\n",
              "  <thead>\n",
              "    <tr style=\"text-align: right;\">\n",
              "      <th></th>\n",
              "      <th>id</th>\n",
              "      <th>user_id</th>\n",
              "      <th>call_date</th>\n",
              "      <th>duration</th>\n",
              "      <th>month</th>\n",
              "      <th>call_co</th>\n",
              "    </tr>\n",
              "  </thead>\n",
              "  <tbody>\n",
              "    <tr>\n",
              "      <th>0</th>\n",
              "      <td>1000_93</td>\n",
              "      <td>1000</td>\n",
              "      <td>2018-12-27</td>\n",
              "      <td>9.0</td>\n",
              "      <td>12</td>\n",
              "      <td>1</td>\n",
              "    </tr>\n",
              "    <tr>\n",
              "      <th>1</th>\n",
              "      <td>1000_145</td>\n",
              "      <td>1000</td>\n",
              "      <td>2018-12-27</td>\n",
              "      <td>14.0</td>\n",
              "      <td>12</td>\n",
              "      <td>1</td>\n",
              "    </tr>\n",
              "    <tr>\n",
              "      <th>2</th>\n",
              "      <td>1000_247</td>\n",
              "      <td>1000</td>\n",
              "      <td>2018-12-27</td>\n",
              "      <td>15.0</td>\n",
              "      <td>12</td>\n",
              "      <td>1</td>\n",
              "    </tr>\n",
              "    <tr>\n",
              "      <th>3</th>\n",
              "      <td>1000_309</td>\n",
              "      <td>1000</td>\n",
              "      <td>2018-12-28</td>\n",
              "      <td>6.0</td>\n",
              "      <td>12</td>\n",
              "      <td>1</td>\n",
              "    </tr>\n",
              "    <tr>\n",
              "      <th>4</th>\n",
              "      <td>1000_380</td>\n",
              "      <td>1000</td>\n",
              "      <td>2018-12-30</td>\n",
              "      <td>5.0</td>\n",
              "      <td>12</td>\n",
              "      <td>1</td>\n",
              "    </tr>\n",
              "  </tbody>\n",
              "</table>\n",
              "</div>"
            ],
            "text/plain": [
              "         id  user_id   call_date  duration  month  call_co\n",
              "0   1000_93     1000  2018-12-27       9.0     12        1\n",
              "1  1000_145     1000  2018-12-27      14.0     12        1\n",
              "2  1000_247     1000  2018-12-27      15.0     12        1\n",
              "3  1000_309     1000  2018-12-28       6.0     12        1\n",
              "4  1000_380     1000  2018-12-30       5.0     12        1"
            ]
          },
          "execution_count": 15,
          "metadata": {},
          "output_type": "execute_result"
        }
      ],
      "source": [
        "calls = calls.assign(call_co=1)\n",
        "calls.head()"
      ]
    },
    {
      "cell_type": "markdown",
      "metadata": {
        "id": "xrD0irY0OLrx"
      },
      "source": [
        "## Mensajes"
      ]
    },
    {
      "cell_type": "code",
      "execution_count": null,
      "metadata": {
        "id": "qffuljDfOLrx",
        "outputId": "8f41c81f-36db-4ca9-989b-e8356b08990c"
      },
      "outputs": [
        {
          "name": "stdout",
          "output_type": "stream",
          "text": [
            "<class 'pandas.core.frame.DataFrame'>\n",
            "RangeIndex: 76051 entries, 0 to 76050\n",
            "Data columns (total 3 columns):\n",
            " #   Column        Non-Null Count  Dtype \n",
            "---  ------        --------------  ----- \n",
            " 0   id            76051 non-null  object\n",
            " 1   user_id       76051 non-null  int64 \n",
            " 2   message_date  76051 non-null  object\n",
            "dtypes: int64(1), object(2)\n",
            "memory usage: 1.7+ MB\n",
            "\n"
          ]
        },
        {
          "data": {
            "text/html": [
              "<div>\n",
              "<style scoped>\n",
              "    .dataframe tbody tr th:only-of-type {\n",
              "        vertical-align: middle;\n",
              "    }\n",
              "\n",
              "    .dataframe tbody tr th {\n",
              "        vertical-align: top;\n",
              "    }\n",
              "\n",
              "    .dataframe thead th {\n",
              "        text-align: right;\n",
              "    }\n",
              "</style>\n",
              "<table border=\"1\" class=\"dataframe\">\n",
              "  <thead>\n",
              "    <tr style=\"text-align: right;\">\n",
              "      <th></th>\n",
              "      <th>user_id</th>\n",
              "    </tr>\n",
              "  </thead>\n",
              "  <tbody>\n",
              "    <tr>\n",
              "      <th>count</th>\n",
              "      <td>76051.000000</td>\n",
              "    </tr>\n",
              "    <tr>\n",
              "      <th>mean</th>\n",
              "      <td>1245.972768</td>\n",
              "    </tr>\n",
              "    <tr>\n",
              "      <th>std</th>\n",
              "      <td>139.843635</td>\n",
              "    </tr>\n",
              "    <tr>\n",
              "      <th>min</th>\n",
              "      <td>1000.000000</td>\n",
              "    </tr>\n",
              "    <tr>\n",
              "      <th>25%</th>\n",
              "      <td>1123.000000</td>\n",
              "    </tr>\n",
              "    <tr>\n",
              "      <th>50%</th>\n",
              "      <td>1251.000000</td>\n",
              "    </tr>\n",
              "    <tr>\n",
              "      <th>75%</th>\n",
              "      <td>1362.000000</td>\n",
              "    </tr>\n",
              "    <tr>\n",
              "      <th>max</th>\n",
              "      <td>1497.000000</td>\n",
              "    </tr>\n",
              "  </tbody>\n",
              "</table>\n",
              "</div>"
            ],
            "text/plain": [
              "            user_id\n",
              "count  76051.000000\n",
              "mean    1245.972768\n",
              "std      139.843635\n",
              "min     1000.000000\n",
              "25%     1123.000000\n",
              "50%     1251.000000\n",
              "75%     1362.000000\n",
              "max     1497.000000"
            ]
          },
          "execution_count": 16,
          "metadata": {},
          "output_type": "execute_result"
        }
      ],
      "source": [
        "# Imprime la información/resumen general sobre el DataFrame de los mensajes\n",
        "messages.info()\n",
        "print()\n",
        "messages.describe()"
      ]
    },
    {
      "cell_type": "code",
      "execution_count": null,
      "metadata": {
        "id": "nh4wl7KNOLry",
        "outputId": "4a9086e4-d350-4c10-acf6-adfae2343f49"
      },
      "outputs": [
        {
          "data": {
            "text/html": [
              "<div>\n",
              "<style scoped>\n",
              "    .dataframe tbody tr th:only-of-type {\n",
              "        vertical-align: middle;\n",
              "    }\n",
              "\n",
              "    .dataframe tbody tr th {\n",
              "        vertical-align: top;\n",
              "    }\n",
              "\n",
              "    .dataframe thead th {\n",
              "        text-align: right;\n",
              "    }\n",
              "</style>\n",
              "<table border=\"1\" class=\"dataframe\">\n",
              "  <thead>\n",
              "    <tr style=\"text-align: right;\">\n",
              "      <th></th>\n",
              "      <th>id</th>\n",
              "      <th>user_id</th>\n",
              "      <th>message_date</th>\n",
              "    </tr>\n",
              "  </thead>\n",
              "  <tbody>\n",
              "    <tr>\n",
              "      <th>0</th>\n",
              "      <td>1000_125</td>\n",
              "      <td>1000</td>\n",
              "      <td>2018-12-27</td>\n",
              "    </tr>\n",
              "    <tr>\n",
              "      <th>1</th>\n",
              "      <td>1000_160</td>\n",
              "      <td>1000</td>\n",
              "      <td>2018-12-31</td>\n",
              "    </tr>\n",
              "    <tr>\n",
              "      <th>2</th>\n",
              "      <td>1000_223</td>\n",
              "      <td>1000</td>\n",
              "      <td>2018-12-31</td>\n",
              "    </tr>\n",
              "    <tr>\n",
              "      <th>3</th>\n",
              "      <td>1000_251</td>\n",
              "      <td>1000</td>\n",
              "      <td>2018-12-27</td>\n",
              "    </tr>\n",
              "    <tr>\n",
              "      <th>4</th>\n",
              "      <td>1000_255</td>\n",
              "      <td>1000</td>\n",
              "      <td>2018-12-26</td>\n",
              "    </tr>\n",
              "  </tbody>\n",
              "</table>\n",
              "</div>"
            ],
            "text/plain": [
              "         id  user_id message_date\n",
              "0  1000_125     1000   2018-12-27\n",
              "1  1000_160     1000   2018-12-31\n",
              "2  1000_223     1000   2018-12-31\n",
              "3  1000_251     1000   2018-12-27\n",
              "4  1000_255     1000   2018-12-26"
            ]
          },
          "execution_count": 17,
          "metadata": {},
          "output_type": "execute_result"
        }
      ],
      "source": [
        "# Imprime una muestra de datos para los mensajes\n",
        "messages.head()"
      ]
    },
    {
      "cell_type": "markdown",
      "metadata": {
        "id": "8tB_zdpCOLry"
      },
      "source": [
        "La tabla messages tiene 76051 filas y 3 columnas. No tiene valores ausentes, ni valores que se deban cambiar. Solo se agregará una columna de cada mes de message_date."
      ]
    },
    {
      "cell_type": "markdown",
      "metadata": {
        "id": "9dPBJ7SfOLry"
      },
      "source": [
        "### Enriquecer datos"
      ]
    },
    {
      "cell_type": "code",
      "execution_count": null,
      "metadata": {
        "id": "Gq4NqqbBOLry",
        "outputId": "c9ea952a-8333-4e62-d7c9-5a181d8b86ac"
      },
      "outputs": [
        {
          "data": {
            "text/html": [
              "<div>\n",
              "<style scoped>\n",
              "    .dataframe tbody tr th:only-of-type {\n",
              "        vertical-align: middle;\n",
              "    }\n",
              "\n",
              "    .dataframe tbody tr th {\n",
              "        vertical-align: top;\n",
              "    }\n",
              "\n",
              "    .dataframe thead th {\n",
              "        text-align: right;\n",
              "    }\n",
              "</style>\n",
              "<table border=\"1\" class=\"dataframe\">\n",
              "  <thead>\n",
              "    <tr style=\"text-align: right;\">\n",
              "      <th></th>\n",
              "      <th>id</th>\n",
              "      <th>user_id</th>\n",
              "      <th>message_date</th>\n",
              "      <th>month</th>\n",
              "      <th>message_count</th>\n",
              "    </tr>\n",
              "  </thead>\n",
              "  <tbody>\n",
              "    <tr>\n",
              "      <th>0</th>\n",
              "      <td>1000_125</td>\n",
              "      <td>1000</td>\n",
              "      <td>2018-12-27</td>\n",
              "      <td>12</td>\n",
              "      <td>1</td>\n",
              "    </tr>\n",
              "    <tr>\n",
              "      <th>1</th>\n",
              "      <td>1000_160</td>\n",
              "      <td>1000</td>\n",
              "      <td>2018-12-31</td>\n",
              "      <td>12</td>\n",
              "      <td>1</td>\n",
              "    </tr>\n",
              "    <tr>\n",
              "      <th>2</th>\n",
              "      <td>1000_223</td>\n",
              "      <td>1000</td>\n",
              "      <td>2018-12-31</td>\n",
              "      <td>12</td>\n",
              "      <td>1</td>\n",
              "    </tr>\n",
              "    <tr>\n",
              "      <th>3</th>\n",
              "      <td>1000_251</td>\n",
              "      <td>1000</td>\n",
              "      <td>2018-12-27</td>\n",
              "      <td>12</td>\n",
              "      <td>1</td>\n",
              "    </tr>\n",
              "    <tr>\n",
              "      <th>4</th>\n",
              "      <td>1000_255</td>\n",
              "      <td>1000</td>\n",
              "      <td>2018-12-26</td>\n",
              "      <td>12</td>\n",
              "      <td>1</td>\n",
              "    </tr>\n",
              "  </tbody>\n",
              "</table>\n",
              "</div>"
            ],
            "text/plain": [
              "         id  user_id message_date  month  message_count\n",
              "0  1000_125     1000   2018-12-27     12              1\n",
              "1  1000_160     1000   2018-12-31     12              1\n",
              "2  1000_223     1000   2018-12-31     12              1\n",
              "3  1000_251     1000   2018-12-27     12              1\n",
              "4  1000_255     1000   2018-12-26     12              1"
            ]
          },
          "execution_count": 18,
          "metadata": {},
          "output_type": "execute_result"
        }
      ],
      "source": [
        "messages['month']=pd.DatetimeIndex(messages['message_date']).month\n",
        "messages = messages.assign(message_count=1)\n",
        "messages.head()"
      ]
    },
    {
      "cell_type": "markdown",
      "metadata": {
        "id": "4_XK5w3POLr1"
      },
      "source": [
        "## Internet"
      ]
    },
    {
      "cell_type": "code",
      "execution_count": null,
      "metadata": {
        "id": "3FVL_GRlOLr1",
        "outputId": "42a6e021-01ff-448a-dfc2-8cf0bbf7ef77"
      },
      "outputs": [
        {
          "name": "stdout",
          "output_type": "stream",
          "text": [
            "<class 'pandas.core.frame.DataFrame'>\n",
            "RangeIndex: 104825 entries, 0 to 104824\n",
            "Data columns (total 4 columns):\n",
            " #   Column        Non-Null Count   Dtype  \n",
            "---  ------        --------------   -----  \n",
            " 0   id            104825 non-null  object \n",
            " 1   user_id       104825 non-null  int64  \n",
            " 2   session_date  104825 non-null  object \n",
            " 3   mb_used       104825 non-null  float64\n",
            "dtypes: float64(1), int64(1), object(2)\n",
            "memory usage: 3.2+ MB\n",
            "\n"
          ]
        },
        {
          "data": {
            "text/html": [
              "<div>\n",
              "<style scoped>\n",
              "    .dataframe tbody tr th:only-of-type {\n",
              "        vertical-align: middle;\n",
              "    }\n",
              "\n",
              "    .dataframe tbody tr th {\n",
              "        vertical-align: top;\n",
              "    }\n",
              "\n",
              "    .dataframe thead th {\n",
              "        text-align: right;\n",
              "    }\n",
              "</style>\n",
              "<table border=\"1\" class=\"dataframe\">\n",
              "  <thead>\n",
              "    <tr style=\"text-align: right;\">\n",
              "      <th></th>\n",
              "      <th>user_id</th>\n",
              "      <th>mb_used</th>\n",
              "    </tr>\n",
              "  </thead>\n",
              "  <tbody>\n",
              "    <tr>\n",
              "      <th>count</th>\n",
              "      <td>104825.000000</td>\n",
              "      <td>104825.000000</td>\n",
              "    </tr>\n",
              "    <tr>\n",
              "      <th>mean</th>\n",
              "      <td>1242.496361</td>\n",
              "      <td>366.713701</td>\n",
              "    </tr>\n",
              "    <tr>\n",
              "      <th>std</th>\n",
              "      <td>142.053913</td>\n",
              "      <td>277.170542</td>\n",
              "    </tr>\n",
              "    <tr>\n",
              "      <th>min</th>\n",
              "      <td>1000.000000</td>\n",
              "      <td>0.000000</td>\n",
              "    </tr>\n",
              "    <tr>\n",
              "      <th>25%</th>\n",
              "      <td>1122.000000</td>\n",
              "      <td>136.080000</td>\n",
              "    </tr>\n",
              "    <tr>\n",
              "      <th>50%</th>\n",
              "      <td>1236.000000</td>\n",
              "      <td>343.980000</td>\n",
              "    </tr>\n",
              "    <tr>\n",
              "      <th>75%</th>\n",
              "      <td>1367.000000</td>\n",
              "      <td>554.610000</td>\n",
              "    </tr>\n",
              "    <tr>\n",
              "      <th>max</th>\n",
              "      <td>1499.000000</td>\n",
              "      <td>1693.470000</td>\n",
              "    </tr>\n",
              "  </tbody>\n",
              "</table>\n",
              "</div>"
            ],
            "text/plain": [
              "             user_id        mb_used\n",
              "count  104825.000000  104825.000000\n",
              "mean     1242.496361     366.713701\n",
              "std       142.053913     277.170542\n",
              "min      1000.000000       0.000000\n",
              "25%      1122.000000     136.080000\n",
              "50%      1236.000000     343.980000\n",
              "75%      1367.000000     554.610000\n",
              "max      1499.000000    1693.470000"
            ]
          },
          "execution_count": 19,
          "metadata": {},
          "output_type": "execute_result"
        }
      ],
      "source": [
        "# Imprime la información/resumen general sobre el DataFrame de los mensajes\n",
        "internet.info()\n",
        "print()\n",
        "internet.describe()"
      ]
    },
    {
      "cell_type": "code",
      "execution_count": null,
      "metadata": {
        "id": "f6xIupKFOLr1",
        "outputId": "afdebb36-d0f6-421b-dc78-e9255153046a"
      },
      "outputs": [
        {
          "data": {
            "text/html": [
              "<div>\n",
              "<style scoped>\n",
              "    .dataframe tbody tr th:only-of-type {\n",
              "        vertical-align: middle;\n",
              "    }\n",
              "\n",
              "    .dataframe tbody tr th {\n",
              "        vertical-align: top;\n",
              "    }\n",
              "\n",
              "    .dataframe thead th {\n",
              "        text-align: right;\n",
              "    }\n",
              "</style>\n",
              "<table border=\"1\" class=\"dataframe\">\n",
              "  <thead>\n",
              "    <tr style=\"text-align: right;\">\n",
              "      <th></th>\n",
              "      <th>id</th>\n",
              "      <th>user_id</th>\n",
              "      <th>session_date</th>\n",
              "      <th>mb_used</th>\n",
              "    </tr>\n",
              "  </thead>\n",
              "  <tbody>\n",
              "    <tr>\n",
              "      <th>0</th>\n",
              "      <td>1000_13</td>\n",
              "      <td>1000</td>\n",
              "      <td>2018-12-29</td>\n",
              "      <td>89.86</td>\n",
              "    </tr>\n",
              "    <tr>\n",
              "      <th>1</th>\n",
              "      <td>1000_204</td>\n",
              "      <td>1000</td>\n",
              "      <td>2018-12-31</td>\n",
              "      <td>0.00</td>\n",
              "    </tr>\n",
              "    <tr>\n",
              "      <th>2</th>\n",
              "      <td>1000_379</td>\n",
              "      <td>1000</td>\n",
              "      <td>2018-12-28</td>\n",
              "      <td>660.40</td>\n",
              "    </tr>\n",
              "    <tr>\n",
              "      <th>3</th>\n",
              "      <td>1000_413</td>\n",
              "      <td>1000</td>\n",
              "      <td>2018-12-26</td>\n",
              "      <td>270.99</td>\n",
              "    </tr>\n",
              "    <tr>\n",
              "      <th>4</th>\n",
              "      <td>1000_442</td>\n",
              "      <td>1000</td>\n",
              "      <td>2018-12-27</td>\n",
              "      <td>880.22</td>\n",
              "    </tr>\n",
              "  </tbody>\n",
              "</table>\n",
              "</div>"
            ],
            "text/plain": [
              "         id  user_id session_date  mb_used\n",
              "0   1000_13     1000   2018-12-29    89.86\n",
              "1  1000_204     1000   2018-12-31     0.00\n",
              "2  1000_379     1000   2018-12-28   660.40\n",
              "3  1000_413     1000   2018-12-26   270.99\n",
              "4  1000_442     1000   2018-12-27   880.22"
            ]
          },
          "execution_count": 20,
          "metadata": {},
          "output_type": "execute_result"
        }
      ],
      "source": [
        "# Imprime una muestra de datos para el tráfico de internet\n",
        "internet.head()"
      ]
    },
    {
      "cell_type": "markdown",
      "metadata": {
        "id": "ABJKIGVnOLr2"
      },
      "source": [
        "La tabla internet tiene 104825 filas y 4 columnas. No tiene valores ausentes, ni valores que se deban cambiar. Se agregará una columna de cada mes de session_date. La columna mb_used tiene valores igual a 0, se calculará el porcentaje para saber si se pueden eliminar estos valores o no."
      ]
    },
    {
      "cell_type": "markdown",
      "metadata": {
        "id": "-kXc6eV-OLr2"
      },
      "source": [
        "### Corregir datos"
      ]
    },
    {
      "cell_type": "code",
      "execution_count": null,
      "metadata": {
        "id": "gKkUHf2lOLr2",
        "outputId": "9891dad8-50a0-482e-f1af-4eefc501c5c8"
      },
      "outputs": [
        {
          "data": {
            "text/plain": [
              "id              13747\n",
              "user_id         13747\n",
              "session_date    13747\n",
              "mb_used         13747\n",
              "dtype: int64"
            ]
          },
          "execution_count": 21,
          "metadata": {},
          "output_type": "execute_result"
        }
      ],
      "source": [
        "internet.query('mb_used == 0').count()"
      ]
    },
    {
      "cell_type": "markdown",
      "metadata": {
        "id": "409HQYKoOLr2"
      },
      "source": [
        "El porcentaje de llamadas con valor \"0\" es del 13%, es un valor representativo, por tal motivo no se eliminarán esos valores."
      ]
    },
    {
      "cell_type": "markdown",
      "metadata": {
        "id": "pu0mnPDUOLr2"
      },
      "source": [
        "### Enriquecer datos"
      ]
    },
    {
      "cell_type": "code",
      "execution_count": null,
      "metadata": {
        "id": "10aujlm7OLr2"
      },
      "outputs": [],
      "source": [
        "internet['month']=pd.DatetimeIndex(internet['session_date']).month"
      ]
    },
    {
      "cell_type": "markdown",
      "metadata": {
        "id": "eVaeStF6OLr2"
      },
      "source": [
        "## Estudiar las condiciones del plan"
      ]
    },
    {
      "cell_type": "markdown",
      "metadata": {
        "id": "KfqpH1R7OLr2"
      },
      "source": [
        "### Imprime las condiciones del plan y asegúrate de que te resulten claros\n",
        "Megaline redondea los segundos a minutos y los megabytes a gigabytes. Para llamadas, cada llamada individual se redondea: incluso si la llamada duró solo un segundo, se contará como un minuto. Para tráfico web, las sesiones web individuales no se redondean. En vez de esto, el total del mes se redondea hacia arriba. Si alguien usa 1025 megabytes este mes, se le cobrarán 2 gigabytes.\n",
        "\n",
        "Surf\n",
        "\n",
        "Pago mensual: 20$\n",
        "500 minutos al mes, 50 SMS y 15 GB de datos\n",
        "\n",
        "Si se exceden los límites del paquete:\n",
        "1 minuto: 3 centavos\n",
        "1 SMS: 3 centavos\n",
        "1 GB de datos: 10$\n",
        "\n",
        "Ultimate\n",
        "\n",
        "Pago mensual: 70$\n",
        "3000 minutos al mes, 1000 SMS y 30 GB de datos\n",
        "\n",
        "Si se exceden los límites del paquete:\n",
        "1 minuto: 1 centavo\n",
        "1 SMS: 1 centavo\n",
        "1 GB de datos: 7$"
      ]
    },
    {
      "cell_type": "markdown",
      "metadata": {
        "id": "uYv8iaR9OLr2"
      },
      "source": [
        "## Agregar datos por usuario\n"
      ]
    },
    {
      "cell_type": "code",
      "execution_count": null,
      "metadata": {
        "id": "PJF6Z7McOLr2",
        "outputId": "91547fd9-6549-410d-c001-5e2d5b27ae1f"
      },
      "outputs": [
        {
          "data": {
            "text/html": [
              "<div>\n",
              "<style scoped>\n",
              "    .dataframe tbody tr th:only-of-type {\n",
              "        vertical-align: middle;\n",
              "    }\n",
              "\n",
              "    .dataframe tbody tr th {\n",
              "        vertical-align: top;\n",
              "    }\n",
              "\n",
              "    .dataframe thead th {\n",
              "        text-align: right;\n",
              "    }\n",
              "</style>\n",
              "<table border=\"1\" class=\"dataframe\">\n",
              "  <thead>\n",
              "    <tr style=\"text-align: right;\">\n",
              "      <th></th>\n",
              "      <th></th>\n",
              "      <th>call_count</th>\n",
              "    </tr>\n",
              "    <tr>\n",
              "      <th>user_id</th>\n",
              "      <th>month</th>\n",
              "      <th></th>\n",
              "    </tr>\n",
              "  </thead>\n",
              "  <tbody>\n",
              "    <tr>\n",
              "      <th>1000</th>\n",
              "      <th>12</th>\n",
              "      <td>16</td>\n",
              "    </tr>\n",
              "    <tr>\n",
              "      <th rowspan=\"4\" valign=\"top\">1001</th>\n",
              "      <th>8</th>\n",
              "      <td>27</td>\n",
              "    </tr>\n",
              "    <tr>\n",
              "      <th>9</th>\n",
              "      <td>49</td>\n",
              "    </tr>\n",
              "    <tr>\n",
              "      <th>10</th>\n",
              "      <td>65</td>\n",
              "    </tr>\n",
              "    <tr>\n",
              "      <th>11</th>\n",
              "      <td>64</td>\n",
              "    </tr>\n",
              "    <tr>\n",
              "      <th>...</th>\n",
              "      <th>...</th>\n",
              "      <td>...</td>\n",
              "    </tr>\n",
              "    <tr>\n",
              "      <th>1498</th>\n",
              "      <th>12</th>\n",
              "      <td>39</td>\n",
              "    </tr>\n",
              "    <tr>\n",
              "      <th rowspan=\"4\" valign=\"top\">1499</th>\n",
              "      <th>9</th>\n",
              "      <td>41</td>\n",
              "    </tr>\n",
              "    <tr>\n",
              "      <th>10</th>\n",
              "      <td>53</td>\n",
              "    </tr>\n",
              "    <tr>\n",
              "      <th>11</th>\n",
              "      <td>45</td>\n",
              "    </tr>\n",
              "    <tr>\n",
              "      <th>12</th>\n",
              "      <td>65</td>\n",
              "    </tr>\n",
              "  </tbody>\n",
              "</table>\n",
              "<p>2258 rows × 1 columns</p>\n",
              "</div>"
            ],
            "text/plain": [
              "               call_count\n",
              "user_id month            \n",
              "1000    12             16\n",
              "1001    8              27\n",
              "        9              49\n",
              "        10             65\n",
              "        11             64\n",
              "...                   ...\n",
              "1498    12             39\n",
              "1499    9              41\n",
              "        10             53\n",
              "        11             45\n",
              "        12             65\n",
              "\n",
              "[2258 rows x 1 columns]"
            ]
          },
          "execution_count": 23,
          "metadata": {},
          "output_type": "execute_result"
        }
      ],
      "source": [
        "# Calcula el número de llamadas hechas por cada usuario por mes. Guarda el resultado.\n",
        "\n",
        "total_calls = calls.pivot_table(\n",
        "    index = ['user_id', 'month'], values='call_co', aggfunc='count'\n",
        ")\n",
        "total_calls = total_calls.rename(columns={'call_co': \"call_count\"})\n",
        "total_calls"
      ]
    },
    {
      "cell_type": "code",
      "execution_count": null,
      "metadata": {
        "id": "h6lOwBXQOLr2",
        "outputId": "86237720-a26a-46f1-abdf-fb2674d7fd22"
      },
      "outputs": [
        {
          "data": {
            "text/html": [
              "<div>\n",
              "<style scoped>\n",
              "    .dataframe tbody tr th:only-of-type {\n",
              "        vertical-align: middle;\n",
              "    }\n",
              "\n",
              "    .dataframe tbody tr th {\n",
              "        vertical-align: top;\n",
              "    }\n",
              "\n",
              "    .dataframe thead th {\n",
              "        text-align: right;\n",
              "    }\n",
              "</style>\n",
              "<table border=\"1\" class=\"dataframe\">\n",
              "  <thead>\n",
              "    <tr style=\"text-align: right;\">\n",
              "      <th></th>\n",
              "      <th></th>\n",
              "      <th>total_minutes</th>\n",
              "    </tr>\n",
              "    <tr>\n",
              "      <th>user_id</th>\n",
              "      <th>month</th>\n",
              "      <th></th>\n",
              "    </tr>\n",
              "  </thead>\n",
              "  <tbody>\n",
              "    <tr>\n",
              "      <th>1000</th>\n",
              "      <th>12</th>\n",
              "      <td>124.0</td>\n",
              "    </tr>\n",
              "    <tr>\n",
              "      <th rowspan=\"4\" valign=\"top\">1001</th>\n",
              "      <th>8</th>\n",
              "      <td>182.0</td>\n",
              "    </tr>\n",
              "    <tr>\n",
              "      <th>9</th>\n",
              "      <td>315.0</td>\n",
              "    </tr>\n",
              "    <tr>\n",
              "      <th>10</th>\n",
              "      <td>393.0</td>\n",
              "    </tr>\n",
              "    <tr>\n",
              "      <th>11</th>\n",
              "      <td>426.0</td>\n",
              "    </tr>\n",
              "    <tr>\n",
              "      <th>...</th>\n",
              "      <th>...</th>\n",
              "      <td>...</td>\n",
              "    </tr>\n",
              "    <tr>\n",
              "      <th>1498</th>\n",
              "      <th>12</th>\n",
              "      <td>339.0</td>\n",
              "    </tr>\n",
              "    <tr>\n",
              "      <th rowspan=\"4\" valign=\"top\">1499</th>\n",
              "      <th>9</th>\n",
              "      <td>346.0</td>\n",
              "    </tr>\n",
              "    <tr>\n",
              "      <th>10</th>\n",
              "      <td>385.0</td>\n",
              "    </tr>\n",
              "    <tr>\n",
              "      <th>11</th>\n",
              "      <td>308.0</td>\n",
              "    </tr>\n",
              "    <tr>\n",
              "      <th>12</th>\n",
              "      <td>496.0</td>\n",
              "    </tr>\n",
              "  </tbody>\n",
              "</table>\n",
              "<p>2258 rows × 1 columns</p>\n",
              "</div>"
            ],
            "text/plain": [
              "               total_minutes\n",
              "user_id month               \n",
              "1000    12             124.0\n",
              "1001    8              182.0\n",
              "        9              315.0\n",
              "        10             393.0\n",
              "        11             426.0\n",
              "...                      ...\n",
              "1498    12             339.0\n",
              "1499    9              346.0\n",
              "        10             385.0\n",
              "        11             308.0\n",
              "        12             496.0\n",
              "\n",
              "[2258 rows x 1 columns]"
            ]
          },
          "execution_count": 24,
          "metadata": {},
          "output_type": "execute_result"
        }
      ],
      "source": [
        "# Calcula la cantidad de minutos que usó cada usuario por mes. Guarda el resultado.\n",
        "\n",
        "total_minutes = calls.pivot_table(\n",
        "    index = ['user_id', 'month'], values='duration', aggfunc='sum'\n",
        ")\n",
        "total_minutes = total_minutes.rename(columns={'duration': \"total_minutes\"})\n",
        "total_minutes"
      ]
    },
    {
      "cell_type": "code",
      "execution_count": null,
      "metadata": {
        "id": "16TJ2kMNOLr2",
        "outputId": "05775214-44be-4b09-9636-e51550c3d20e"
      },
      "outputs": [
        {
          "data": {
            "text/html": [
              "<div>\n",
              "<style scoped>\n",
              "    .dataframe tbody tr th:only-of-type {\n",
              "        vertical-align: middle;\n",
              "    }\n",
              "\n",
              "    .dataframe tbody tr th {\n",
              "        vertical-align: top;\n",
              "    }\n",
              "\n",
              "    .dataframe thead th {\n",
              "        text-align: right;\n",
              "    }\n",
              "</style>\n",
              "<table border=\"1\" class=\"dataframe\">\n",
              "  <thead>\n",
              "    <tr style=\"text-align: right;\">\n",
              "      <th></th>\n",
              "      <th></th>\n",
              "      <th>total_messages</th>\n",
              "    </tr>\n",
              "    <tr>\n",
              "      <th>user_id</th>\n",
              "      <th>month</th>\n",
              "      <th></th>\n",
              "    </tr>\n",
              "  </thead>\n",
              "  <tbody>\n",
              "    <tr>\n",
              "      <th>1000</th>\n",
              "      <th>12</th>\n",
              "      <td>11</td>\n",
              "    </tr>\n",
              "    <tr>\n",
              "      <th rowspan=\"4\" valign=\"top\">1001</th>\n",
              "      <th>8</th>\n",
              "      <td>30</td>\n",
              "    </tr>\n",
              "    <tr>\n",
              "      <th>9</th>\n",
              "      <td>44</td>\n",
              "    </tr>\n",
              "    <tr>\n",
              "      <th>10</th>\n",
              "      <td>53</td>\n",
              "    </tr>\n",
              "    <tr>\n",
              "      <th>11</th>\n",
              "      <td>36</td>\n",
              "    </tr>\n",
              "    <tr>\n",
              "      <th>...</th>\n",
              "      <th>...</th>\n",
              "      <td>...</td>\n",
              "    </tr>\n",
              "    <tr>\n",
              "      <th rowspan=\"4\" valign=\"top\">1496</th>\n",
              "      <th>9</th>\n",
              "      <td>21</td>\n",
              "    </tr>\n",
              "    <tr>\n",
              "      <th>10</th>\n",
              "      <td>18</td>\n",
              "    </tr>\n",
              "    <tr>\n",
              "      <th>11</th>\n",
              "      <td>13</td>\n",
              "    </tr>\n",
              "    <tr>\n",
              "      <th>12</th>\n",
              "      <td>11</td>\n",
              "    </tr>\n",
              "    <tr>\n",
              "      <th>1497</th>\n",
              "      <th>12</th>\n",
              "      <td>50</td>\n",
              "    </tr>\n",
              "  </tbody>\n",
              "</table>\n",
              "<p>1806 rows × 1 columns</p>\n",
              "</div>"
            ],
            "text/plain": [
              "               total_messages\n",
              "user_id month                \n",
              "1000    12                 11\n",
              "1001    8                  30\n",
              "        9                  44\n",
              "        10                 53\n",
              "        11                 36\n",
              "...                       ...\n",
              "1496    9                  21\n",
              "        10                 18\n",
              "        11                 13\n",
              "        12                 11\n",
              "1497    12                 50\n",
              "\n",
              "[1806 rows x 1 columns]"
            ]
          },
          "execution_count": 25,
          "metadata": {},
          "output_type": "execute_result"
        }
      ],
      "source": [
        "# Calcula el número de mensajes enviados por cada usuario por mes. Guarda el resultado.\n",
        "total_messages = messages.pivot_table(\n",
        "    index = ['user_id', 'month'], values='message_count', aggfunc='count'\n",
        ")\n",
        "total_messages = total_messages.rename(columns={'message_count': \"total_messages\"})\n",
        "total_messages"
      ]
    },
    {
      "cell_type": "code",
      "execution_count": null,
      "metadata": {
        "id": "7MfTQAZkOLr2",
        "outputId": "dcc0b5ec-f62e-4981-b78b-aad20b7af747"
      },
      "outputs": [
        {
          "data": {
            "text/html": [
              "<div>\n",
              "<style scoped>\n",
              "    .dataframe tbody tr th:only-of-type {\n",
              "        vertical-align: middle;\n",
              "    }\n",
              "\n",
              "    .dataframe tbody tr th {\n",
              "        vertical-align: top;\n",
              "    }\n",
              "\n",
              "    .dataframe thead th {\n",
              "        text-align: right;\n",
              "    }\n",
              "</style>\n",
              "<table border=\"1\" class=\"dataframe\">\n",
              "  <thead>\n",
              "    <tr style=\"text-align: right;\">\n",
              "      <th></th>\n",
              "      <th></th>\n",
              "      <th>total_internet</th>\n",
              "    </tr>\n",
              "    <tr>\n",
              "      <th>user_id</th>\n",
              "      <th>month</th>\n",
              "      <th></th>\n",
              "    </tr>\n",
              "  </thead>\n",
              "  <tbody>\n",
              "    <tr>\n",
              "      <th>1000</th>\n",
              "      <th>12</th>\n",
              "      <td>1901.47</td>\n",
              "    </tr>\n",
              "    <tr>\n",
              "      <th rowspan=\"4\" valign=\"top\">1001</th>\n",
              "      <th>8</th>\n",
              "      <td>6919.15</td>\n",
              "    </tr>\n",
              "    <tr>\n",
              "      <th>9</th>\n",
              "      <td>13314.82</td>\n",
              "    </tr>\n",
              "    <tr>\n",
              "      <th>10</th>\n",
              "      <td>22330.49</td>\n",
              "    </tr>\n",
              "    <tr>\n",
              "      <th>11</th>\n",
              "      <td>18504.30</td>\n",
              "    </tr>\n",
              "    <tr>\n",
              "      <th>...</th>\n",
              "      <th>...</th>\n",
              "      <td>...</td>\n",
              "    </tr>\n",
              "    <tr>\n",
              "      <th>1498</th>\n",
              "      <th>12</th>\n",
              "      <td>23137.69</td>\n",
              "    </tr>\n",
              "    <tr>\n",
              "      <th rowspan=\"4\" valign=\"top\">1499</th>\n",
              "      <th>9</th>\n",
              "      <td>12984.76</td>\n",
              "    </tr>\n",
              "    <tr>\n",
              "      <th>10</th>\n",
              "      <td>19492.43</td>\n",
              "    </tr>\n",
              "    <tr>\n",
              "      <th>11</th>\n",
              "      <td>16813.83</td>\n",
              "    </tr>\n",
              "    <tr>\n",
              "      <th>12</th>\n",
              "      <td>22059.21</td>\n",
              "    </tr>\n",
              "  </tbody>\n",
              "</table>\n",
              "<p>2277 rows × 1 columns</p>\n",
              "</div>"
            ],
            "text/plain": [
              "               total_internet\n",
              "user_id month                \n",
              "1000    12            1901.47\n",
              "1001    8             6919.15\n",
              "        9            13314.82\n",
              "        10           22330.49\n",
              "        11           18504.30\n",
              "...                       ...\n",
              "1498    12           23137.69\n",
              "1499    9            12984.76\n",
              "        10           19492.43\n",
              "        11           16813.83\n",
              "        12           22059.21\n",
              "\n",
              "[2277 rows x 1 columns]"
            ]
          },
          "execution_count": 26,
          "metadata": {},
          "output_type": "execute_result"
        }
      ],
      "source": [
        "# Calcula el volumen del trafico de internet usado por cada usuario por mes. Guarda el resultado.\n",
        "total_internet = internet.pivot_table(\n",
        "    index = ['user_id', 'month'], values='mb_used', aggfunc='sum'\n",
        ")\n",
        "total_internet = total_internet.rename(columns={'mb_used': \"total_internet\"})\n",
        "total_internet\n"
      ]
    },
    {
      "cell_type": "code",
      "execution_count": null,
      "metadata": {
        "id": "yLB7E5DaOLr2",
        "outputId": "4dcb4280-d29a-4f7f-d4b8-6e857d1227dd"
      },
      "outputs": [
        {
          "data": {
            "text/html": [
              "<div>\n",
              "<style scoped>\n",
              "    .dataframe tbody tr th:only-of-type {\n",
              "        vertical-align: middle;\n",
              "    }\n",
              "\n",
              "    .dataframe tbody tr th {\n",
              "        vertical-align: top;\n",
              "    }\n",
              "\n",
              "    .dataframe thead th {\n",
              "        text-align: right;\n",
              "    }\n",
              "</style>\n",
              "<table border=\"1\" class=\"dataframe\">\n",
              "  <thead>\n",
              "    <tr style=\"text-align: right;\">\n",
              "      <th></th>\n",
              "      <th>user_id</th>\n",
              "      <th>month</th>\n",
              "      <th>call_count</th>\n",
              "      <th>total_minutes</th>\n",
              "      <th>total_messages</th>\n",
              "      <th>total_internet</th>\n",
              "    </tr>\n",
              "  </thead>\n",
              "  <tbody>\n",
              "    <tr>\n",
              "      <th>0</th>\n",
              "      <td>1000</td>\n",
              "      <td>12</td>\n",
              "      <td>16.0</td>\n",
              "      <td>124.0</td>\n",
              "      <td>11.0</td>\n",
              "      <td>1901.47</td>\n",
              "    </tr>\n",
              "    <tr>\n",
              "      <th>1</th>\n",
              "      <td>1001</td>\n",
              "      <td>8</td>\n",
              "      <td>27.0</td>\n",
              "      <td>182.0</td>\n",
              "      <td>30.0</td>\n",
              "      <td>6919.15</td>\n",
              "    </tr>\n",
              "    <tr>\n",
              "      <th>2</th>\n",
              "      <td>1001</td>\n",
              "      <td>9</td>\n",
              "      <td>49.0</td>\n",
              "      <td>315.0</td>\n",
              "      <td>44.0</td>\n",
              "      <td>13314.82</td>\n",
              "    </tr>\n",
              "    <tr>\n",
              "      <th>3</th>\n",
              "      <td>1001</td>\n",
              "      <td>10</td>\n",
              "      <td>65.0</td>\n",
              "      <td>393.0</td>\n",
              "      <td>53.0</td>\n",
              "      <td>22330.49</td>\n",
              "    </tr>\n",
              "    <tr>\n",
              "      <th>4</th>\n",
              "      <td>1001</td>\n",
              "      <td>11</td>\n",
              "      <td>64.0</td>\n",
              "      <td>426.0</td>\n",
              "      <td>36.0</td>\n",
              "      <td>18504.30</td>\n",
              "    </tr>\n",
              "    <tr>\n",
              "      <th>...</th>\n",
              "      <td>...</td>\n",
              "      <td>...</td>\n",
              "      <td>...</td>\n",
              "      <td>...</td>\n",
              "      <td>...</td>\n",
              "      <td>...</td>\n",
              "    </tr>\n",
              "    <tr>\n",
              "      <th>2288</th>\n",
              "      <td>1349</td>\n",
              "      <td>12</td>\n",
              "      <td>0.0</td>\n",
              "      <td>0.0</td>\n",
              "      <td>61.0</td>\n",
              "      <td>13039.91</td>\n",
              "    </tr>\n",
              "    <tr>\n",
              "      <th>2289</th>\n",
              "      <td>1361</td>\n",
              "      <td>5</td>\n",
              "      <td>0.0</td>\n",
              "      <td>0.0</td>\n",
              "      <td>2.0</td>\n",
              "      <td>1519.69</td>\n",
              "    </tr>\n",
              "    <tr>\n",
              "      <th>2290</th>\n",
              "      <td>1482</td>\n",
              "      <td>10</td>\n",
              "      <td>0.0</td>\n",
              "      <td>0.0</td>\n",
              "      <td>2.0</td>\n",
              "      <td>0.00</td>\n",
              "    </tr>\n",
              "    <tr>\n",
              "      <th>2291</th>\n",
              "      <td>1108</td>\n",
              "      <td>12</td>\n",
              "      <td>0.0</td>\n",
              "      <td>0.0</td>\n",
              "      <td>0.0</td>\n",
              "      <td>233.17</td>\n",
              "    </tr>\n",
              "    <tr>\n",
              "      <th>2292</th>\n",
              "      <td>1311</td>\n",
              "      <td>6</td>\n",
              "      <td>0.0</td>\n",
              "      <td>0.0</td>\n",
              "      <td>0.0</td>\n",
              "      <td>1498.83</td>\n",
              "    </tr>\n",
              "  </tbody>\n",
              "</table>\n",
              "<p>2293 rows × 6 columns</p>\n",
              "</div>"
            ],
            "text/plain": [
              "      user_id  month  call_count  total_minutes  total_messages  \\\n",
              "0        1000     12        16.0          124.0            11.0   \n",
              "1        1001      8        27.0          182.0            30.0   \n",
              "2        1001      9        49.0          315.0            44.0   \n",
              "3        1001     10        65.0          393.0            53.0   \n",
              "4        1001     11        64.0          426.0            36.0   \n",
              "...       ...    ...         ...            ...             ...   \n",
              "2288     1349     12         0.0            0.0            61.0   \n",
              "2289     1361      5         0.0            0.0             2.0   \n",
              "2290     1482     10         0.0            0.0             2.0   \n",
              "2291     1108     12         0.0            0.0             0.0   \n",
              "2292     1311      6         0.0            0.0             0.0   \n",
              "\n",
              "      total_internet  \n",
              "0            1901.47  \n",
              "1            6919.15  \n",
              "2           13314.82  \n",
              "3           22330.49  \n",
              "4           18504.30  \n",
              "...              ...  \n",
              "2288        13039.91  \n",
              "2289         1519.69  \n",
              "2290            0.00  \n",
              "2291          233.17  \n",
              "2292         1498.83  \n",
              "\n",
              "[2293 rows x 6 columns]"
            ]
          },
          "execution_count": 27,
          "metadata": {},
          "output_type": "execute_result"
        }
      ],
      "source": [
        "# Combina los datos para las llamadas, minutos, mensajes e internet con base en el user_id y el mes\n",
        "\n",
        "data = pd.merge(total_calls, total_minutes, on=['user_id', 'month'], how='outer')\n",
        "data = pd.merge(data, total_messages, on=['user_id', 'month'], how='outer')\n",
        "data = pd.merge(data, total_internet, on=['user_id', 'month'], how='outer')\n",
        "data = data.fillna(0)\n",
        "data = data.reset_index()\n",
        "data\n"
      ]
    },
    {
      "cell_type": "markdown",
      "metadata": {
        "id": "H6chcAHxOLr2"
      },
      "source": [
        "Hola Carlos, gracias por el comentario, ya realicé esta modificación"
      ]
    },
    {
      "cell_type": "code",
      "execution_count": null,
      "metadata": {
        "id": "UDiLAyTUOLr3",
        "outputId": "25c96bda-2a62-4d21-94e9-1ff1f597b98d"
      },
      "outputs": [
        {
          "data": {
            "text/html": [
              "<div>\n",
              "<style scoped>\n",
              "    .dataframe tbody tr th:only-of-type {\n",
              "        vertical-align: middle;\n",
              "    }\n",
              "\n",
              "    .dataframe tbody tr th {\n",
              "        vertical-align: top;\n",
              "    }\n",
              "\n",
              "    .dataframe thead th {\n",
              "        text-align: right;\n",
              "    }\n",
              "</style>\n",
              "<table border=\"1\" class=\"dataframe\">\n",
              "  <thead>\n",
              "    <tr style=\"text-align: right;\">\n",
              "      <th></th>\n",
              "      <th>user_id</th>\n",
              "      <th>plan_name</th>\n",
              "      <th>month</th>\n",
              "      <th>call_count</th>\n",
              "      <th>total_minutes</th>\n",
              "      <th>total_messages</th>\n",
              "      <th>total_internet</th>\n",
              "    </tr>\n",
              "  </thead>\n",
              "  <tbody>\n",
              "    <tr>\n",
              "      <th>0</th>\n",
              "      <td>1000</td>\n",
              "      <td>ultimate</td>\n",
              "      <td>12.0</td>\n",
              "      <td>16.0</td>\n",
              "      <td>124.0</td>\n",
              "      <td>11.0</td>\n",
              "      <td>1901.47</td>\n",
              "    </tr>\n",
              "    <tr>\n",
              "      <th>1</th>\n",
              "      <td>1001</td>\n",
              "      <td>surf</td>\n",
              "      <td>8.0</td>\n",
              "      <td>27.0</td>\n",
              "      <td>182.0</td>\n",
              "      <td>30.0</td>\n",
              "      <td>6919.15</td>\n",
              "    </tr>\n",
              "    <tr>\n",
              "      <th>2</th>\n",
              "      <td>1001</td>\n",
              "      <td>surf</td>\n",
              "      <td>9.0</td>\n",
              "      <td>49.0</td>\n",
              "      <td>315.0</td>\n",
              "      <td>44.0</td>\n",
              "      <td>13314.82</td>\n",
              "    </tr>\n",
              "    <tr>\n",
              "      <th>3</th>\n",
              "      <td>1001</td>\n",
              "      <td>surf</td>\n",
              "      <td>10.0</td>\n",
              "      <td>65.0</td>\n",
              "      <td>393.0</td>\n",
              "      <td>53.0</td>\n",
              "      <td>22330.49</td>\n",
              "    </tr>\n",
              "    <tr>\n",
              "      <th>4</th>\n",
              "      <td>1001</td>\n",
              "      <td>surf</td>\n",
              "      <td>11.0</td>\n",
              "      <td>64.0</td>\n",
              "      <td>426.0</td>\n",
              "      <td>36.0</td>\n",
              "      <td>18504.30</td>\n",
              "    </tr>\n",
              "    <tr>\n",
              "      <th>...</th>\n",
              "      <td>...</td>\n",
              "      <td>...</td>\n",
              "      <td>...</td>\n",
              "      <td>...</td>\n",
              "      <td>...</td>\n",
              "      <td>...</td>\n",
              "      <td>...</td>\n",
              "    </tr>\n",
              "    <tr>\n",
              "      <th>2298</th>\n",
              "      <td>1498</td>\n",
              "      <td>surf</td>\n",
              "      <td>12.0</td>\n",
              "      <td>39.0</td>\n",
              "      <td>339.0</td>\n",
              "      <td>0.0</td>\n",
              "      <td>23137.69</td>\n",
              "    </tr>\n",
              "    <tr>\n",
              "      <th>2299</th>\n",
              "      <td>1499</td>\n",
              "      <td>surf</td>\n",
              "      <td>9.0</td>\n",
              "      <td>41.0</td>\n",
              "      <td>346.0</td>\n",
              "      <td>0.0</td>\n",
              "      <td>12984.76</td>\n",
              "    </tr>\n",
              "    <tr>\n",
              "      <th>2300</th>\n",
              "      <td>1499</td>\n",
              "      <td>surf</td>\n",
              "      <td>10.0</td>\n",
              "      <td>53.0</td>\n",
              "      <td>385.0</td>\n",
              "      <td>0.0</td>\n",
              "      <td>19492.43</td>\n",
              "    </tr>\n",
              "    <tr>\n",
              "      <th>2301</th>\n",
              "      <td>1499</td>\n",
              "      <td>surf</td>\n",
              "      <td>11.0</td>\n",
              "      <td>45.0</td>\n",
              "      <td>308.0</td>\n",
              "      <td>0.0</td>\n",
              "      <td>16813.83</td>\n",
              "    </tr>\n",
              "    <tr>\n",
              "      <th>2302</th>\n",
              "      <td>1499</td>\n",
              "      <td>surf</td>\n",
              "      <td>12.0</td>\n",
              "      <td>65.0</td>\n",
              "      <td>496.0</td>\n",
              "      <td>0.0</td>\n",
              "      <td>22059.21</td>\n",
              "    </tr>\n",
              "  </tbody>\n",
              "</table>\n",
              "<p>2303 rows × 7 columns</p>\n",
              "</div>"
            ],
            "text/plain": [
              "      user_id plan_name  month  call_count  total_minutes  total_messages  \\\n",
              "0        1000  ultimate   12.0        16.0          124.0            11.0   \n",
              "1        1001      surf    8.0        27.0          182.0            30.0   \n",
              "2        1001      surf    9.0        49.0          315.0            44.0   \n",
              "3        1001      surf   10.0        65.0          393.0            53.0   \n",
              "4        1001      surf   11.0        64.0          426.0            36.0   \n",
              "...       ...       ...    ...         ...            ...             ...   \n",
              "2298     1498      surf   12.0        39.0          339.0             0.0   \n",
              "2299     1499      surf    9.0        41.0          346.0             0.0   \n",
              "2300     1499      surf   10.0        53.0          385.0             0.0   \n",
              "2301     1499      surf   11.0        45.0          308.0             0.0   \n",
              "2302     1499      surf   12.0        65.0          496.0             0.0   \n",
              "\n",
              "      total_internet  \n",
              "0            1901.47  \n",
              "1            6919.15  \n",
              "2           13314.82  \n",
              "3           22330.49  \n",
              "4           18504.30  \n",
              "...              ...  \n",
              "2298        23137.69  \n",
              "2299        12984.76  \n",
              "2300        19492.43  \n",
              "2301        16813.83  \n",
              "2302        22059.21  \n",
              "\n",
              "[2303 rows x 7 columns]"
            ]
          },
          "execution_count": 28,
          "metadata": {},
          "output_type": "execute_result"
        }
      ],
      "source": [
        "# Añade la información del plan\n",
        "\n",
        "data = pd.merge(users[['user_id', 'plan_name']], data, on='user_id', how='outer')\n",
        "data"
      ]
    },
    {
      "cell_type": "code",
      "execution_count": null,
      "metadata": {
        "id": "eOaasWKrOLr3"
      },
      "outputs": [],
      "source": [
        "data = data.fillna(0)\n",
        "data['call_count'] = data['call_count'].astype('int')\n",
        "data['total_messages'] = data['total_messages'].astype('int')\n",
        "data['total_minutes'] = data['total_minutes'].astype('int')"
      ]
    },
    {
      "cell_type": "markdown",
      "metadata": {
        "id": "_f3eKQKSOLr3"
      },
      "source": [
        "Hola Carlos, gracias por el comentario, si, ya realicé esta modificación anteriormente."
      ]
    },
    {
      "cell_type": "markdown",
      "metadata": {
        "id": "d3YyasH_OLr3"
      },
      "source": [
        "La columna total_internet se dividió para 1024 y se redondeó hacia arriba porque la operadora decidió realizar esta acción para calcular las mb consumidas."
      ]
    },
    {
      "cell_type": "code",
      "execution_count": null,
      "metadata": {
        "id": "wC7x0iJEOLr3"
      },
      "outputs": [],
      "source": [
        "data['total_internet'] = np.ceil(data['total_internet']/1024)"
      ]
    },
    {
      "cell_type": "markdown",
      "metadata": {
        "id": "-l-aN4tuOLr3"
      },
      "source": [
        "Gracias por el comentario, ya realicé esta modificación."
      ]
    },
    {
      "cell_type": "markdown",
      "metadata": {
        "id": "Itbu4PGeOLr3"
      },
      "source": [
        "En la siguiente tabla se encuentra los mensajes, mb y minutos que se incluye en cada plan para cada usuario."
      ]
    },
    {
      "cell_type": "code",
      "execution_count": null,
      "metadata": {
        "id": "QIGVEot5OLr3",
        "outputId": "f80f574d-1eda-4493-9ec7-9e6fdce58da3"
      },
      "outputs": [
        {
          "data": {
            "text/html": [
              "<div>\n",
              "<style scoped>\n",
              "    .dataframe tbody tr th:only-of-type {\n",
              "        vertical-align: middle;\n",
              "    }\n",
              "\n",
              "    .dataframe tbody tr th {\n",
              "        vertical-align: top;\n",
              "    }\n",
              "\n",
              "    .dataframe thead th {\n",
              "        text-align: right;\n",
              "    }\n",
              "</style>\n",
              "<table border=\"1\" class=\"dataframe\">\n",
              "  <thead>\n",
              "    <tr style=\"text-align: right;\">\n",
              "      <th></th>\n",
              "      <th>user_id</th>\n",
              "      <th>first_name</th>\n",
              "      <th>last_name</th>\n",
              "      <th>age</th>\n",
              "      <th>city</th>\n",
              "      <th>reg_date</th>\n",
              "      <th>plan_name</th>\n",
              "      <th>churn_date</th>\n",
              "    </tr>\n",
              "  </thead>\n",
              "  <tbody>\n",
              "    <tr>\n",
              "      <th>0</th>\n",
              "      <td>1000</td>\n",
              "      <td>Anamaria</td>\n",
              "      <td>Bauer</td>\n",
              "      <td>45</td>\n",
              "      <td>Atlanta-Sandy Springs-Roswell, GA MSA</td>\n",
              "      <td>2018-12-24</td>\n",
              "      <td>ultimate</td>\n",
              "      <td>active</td>\n",
              "    </tr>\n",
              "    <tr>\n",
              "      <th>1</th>\n",
              "      <td>1001</td>\n",
              "      <td>Mickey</td>\n",
              "      <td>Wilkerson</td>\n",
              "      <td>28</td>\n",
              "      <td>Seattle-Tacoma-Bellevue, WA MSA</td>\n",
              "      <td>2018-08-13</td>\n",
              "      <td>surf</td>\n",
              "      <td>active</td>\n",
              "    </tr>\n",
              "    <tr>\n",
              "      <th>2</th>\n",
              "      <td>1002</td>\n",
              "      <td>Carlee</td>\n",
              "      <td>Hoffman</td>\n",
              "      <td>36</td>\n",
              "      <td>Las Vegas-Henderson-Paradise, NV MSA</td>\n",
              "      <td>2018-10-21</td>\n",
              "      <td>surf</td>\n",
              "      <td>active</td>\n",
              "    </tr>\n",
              "    <tr>\n",
              "      <th>3</th>\n",
              "      <td>1003</td>\n",
              "      <td>Reynaldo</td>\n",
              "      <td>Jenkins</td>\n",
              "      <td>52</td>\n",
              "      <td>Tulsa, OK MSA</td>\n",
              "      <td>2018-01-28</td>\n",
              "      <td>surf</td>\n",
              "      <td>active</td>\n",
              "    </tr>\n",
              "    <tr>\n",
              "      <th>4</th>\n",
              "      <td>1004</td>\n",
              "      <td>Leonila</td>\n",
              "      <td>Thompson</td>\n",
              "      <td>40</td>\n",
              "      <td>Seattle-Tacoma-Bellevue, WA MSA</td>\n",
              "      <td>2018-05-23</td>\n",
              "      <td>surf</td>\n",
              "      <td>active</td>\n",
              "    </tr>\n",
              "    <tr>\n",
              "      <th>...</th>\n",
              "      <td>...</td>\n",
              "      <td>...</td>\n",
              "      <td>...</td>\n",
              "      <td>...</td>\n",
              "      <td>...</td>\n",
              "      <td>...</td>\n",
              "      <td>...</td>\n",
              "      <td>...</td>\n",
              "    </tr>\n",
              "    <tr>\n",
              "      <th>495</th>\n",
              "      <td>1495</td>\n",
              "      <td>Fidel</td>\n",
              "      <td>Sharpe</td>\n",
              "      <td>67</td>\n",
              "      <td>New York-Newark-Jersey City, NY-NJ-PA MSA</td>\n",
              "      <td>2018-09-04</td>\n",
              "      <td>surf</td>\n",
              "      <td>active</td>\n",
              "    </tr>\n",
              "    <tr>\n",
              "      <th>496</th>\n",
              "      <td>1496</td>\n",
              "      <td>Ariel</td>\n",
              "      <td>Shepherd</td>\n",
              "      <td>49</td>\n",
              "      <td>New Orleans-Metairie, LA MSA</td>\n",
              "      <td>2018-02-20</td>\n",
              "      <td>surf</td>\n",
              "      <td>active</td>\n",
              "    </tr>\n",
              "    <tr>\n",
              "      <th>497</th>\n",
              "      <td>1497</td>\n",
              "      <td>Donte</td>\n",
              "      <td>Barrera</td>\n",
              "      <td>49</td>\n",
              "      <td>Los Angeles-Long Beach-Anaheim, CA MSA</td>\n",
              "      <td>2018-12-10</td>\n",
              "      <td>ultimate</td>\n",
              "      <td>active</td>\n",
              "    </tr>\n",
              "    <tr>\n",
              "      <th>498</th>\n",
              "      <td>1498</td>\n",
              "      <td>Scot</td>\n",
              "      <td>Williamson</td>\n",
              "      <td>51</td>\n",
              "      <td>New York-Newark-Jersey City, NY-NJ-PA MSA</td>\n",
              "      <td>2018-02-04</td>\n",
              "      <td>surf</td>\n",
              "      <td>active</td>\n",
              "    </tr>\n",
              "    <tr>\n",
              "      <th>499</th>\n",
              "      <td>1499</td>\n",
              "      <td>Shena</td>\n",
              "      <td>Dickson</td>\n",
              "      <td>37</td>\n",
              "      <td>Orlando-Kissimmee-Sanford, FL MSA</td>\n",
              "      <td>2018-05-06</td>\n",
              "      <td>surf</td>\n",
              "      <td>active</td>\n",
              "    </tr>\n",
              "  </tbody>\n",
              "</table>\n",
              "<p>500 rows × 8 columns</p>\n",
              "</div>"
            ],
            "text/plain": [
              "     user_id first_name   last_name  age  \\\n",
              "0       1000   Anamaria       Bauer   45   \n",
              "1       1001     Mickey   Wilkerson   28   \n",
              "2       1002     Carlee     Hoffman   36   \n",
              "3       1003   Reynaldo     Jenkins   52   \n",
              "4       1004    Leonila    Thompson   40   \n",
              "..       ...        ...         ...  ...   \n",
              "495     1495      Fidel      Sharpe   67   \n",
              "496     1496      Ariel    Shepherd   49   \n",
              "497     1497      Donte     Barrera   49   \n",
              "498     1498       Scot  Williamson   51   \n",
              "499     1499      Shena     Dickson   37   \n",
              "\n",
              "                                          city    reg_date plan_name  \\\n",
              "0        Atlanta-Sandy Springs-Roswell, GA MSA  2018-12-24  ultimate   \n",
              "1              Seattle-Tacoma-Bellevue, WA MSA  2018-08-13      surf   \n",
              "2         Las Vegas-Henderson-Paradise, NV MSA  2018-10-21      surf   \n",
              "3                                Tulsa, OK MSA  2018-01-28      surf   \n",
              "4              Seattle-Tacoma-Bellevue, WA MSA  2018-05-23      surf   \n",
              "..                                         ...         ...       ...   \n",
              "495  New York-Newark-Jersey City, NY-NJ-PA MSA  2018-09-04      surf   \n",
              "496               New Orleans-Metairie, LA MSA  2018-02-20      surf   \n",
              "497     Los Angeles-Long Beach-Anaheim, CA MSA  2018-12-10  ultimate   \n",
              "498  New York-Newark-Jersey City, NY-NJ-PA MSA  2018-02-04      surf   \n",
              "499          Orlando-Kissimmee-Sanford, FL MSA  2018-05-06      surf   \n",
              "\n",
              "    churn_date  \n",
              "0       active  \n",
              "1       active  \n",
              "2       active  \n",
              "3       active  \n",
              "4       active  \n",
              "..         ...  \n",
              "495     active  \n",
              "496     active  \n",
              "497     active  \n",
              "498     active  \n",
              "499     active  \n",
              "\n",
              "[500 rows x 8 columns]"
            ]
          },
          "execution_count": 31,
          "metadata": {},
          "output_type": "execute_result"
        }
      ],
      "source": [
        "users"
      ]
    },
    {
      "cell_type": "code",
      "execution_count": null,
      "metadata": {
        "id": "lvfl8QMOOLr3",
        "outputId": "406d0cd2-deac-4b5b-e0c2-27ed965379d3"
      },
      "outputs": [
        {
          "data": {
            "text/html": [
              "<div>\n",
              "<style scoped>\n",
              "    .dataframe tbody tr th:only-of-type {\n",
              "        vertical-align: middle;\n",
              "    }\n",
              "\n",
              "    .dataframe tbody tr th {\n",
              "        vertical-align: top;\n",
              "    }\n",
              "\n",
              "    .dataframe thead th {\n",
              "        text-align: right;\n",
              "    }\n",
              "</style>\n",
              "<table border=\"1\" class=\"dataframe\">\n",
              "  <thead>\n",
              "    <tr style=\"text-align: right;\">\n",
              "      <th></th>\n",
              "      <th>plan_name</th>\n",
              "      <th>messages_included</th>\n",
              "      <th>mb_per_month_included</th>\n",
              "      <th>minutes_included</th>\n",
              "      <th>usd_monthly_pay</th>\n",
              "      <th>usd_per_gb</th>\n",
              "      <th>usd_per_message</th>\n",
              "      <th>usd_per_minute</th>\n",
              "      <th>user_id</th>\n",
              "      <th>month</th>\n",
              "      <th>call_count</th>\n",
              "      <th>total_minutes</th>\n",
              "      <th>total_messages</th>\n",
              "      <th>total_internet</th>\n",
              "    </tr>\n",
              "  </thead>\n",
              "  <tbody>\n",
              "    <tr>\n",
              "      <th>0</th>\n",
              "      <td>ultimate</td>\n",
              "      <td>1000</td>\n",
              "      <td>30720</td>\n",
              "      <td>3000</td>\n",
              "      <td>70</td>\n",
              "      <td>7</td>\n",
              "      <td>0.01</td>\n",
              "      <td>0.01</td>\n",
              "      <td>1000</td>\n",
              "      <td>12.0</td>\n",
              "      <td>16</td>\n",
              "      <td>124</td>\n",
              "      <td>11</td>\n",
              "      <td>2.0</td>\n",
              "    </tr>\n",
              "    <tr>\n",
              "      <th>1</th>\n",
              "      <td>surf</td>\n",
              "      <td>50</td>\n",
              "      <td>15360</td>\n",
              "      <td>500</td>\n",
              "      <td>20</td>\n",
              "      <td>10</td>\n",
              "      <td>0.03</td>\n",
              "      <td>0.03</td>\n",
              "      <td>1001</td>\n",
              "      <td>8.0</td>\n",
              "      <td>27</td>\n",
              "      <td>182</td>\n",
              "      <td>30</td>\n",
              "      <td>7.0</td>\n",
              "    </tr>\n",
              "    <tr>\n",
              "      <th>2</th>\n",
              "      <td>surf</td>\n",
              "      <td>50</td>\n",
              "      <td>15360</td>\n",
              "      <td>500</td>\n",
              "      <td>20</td>\n",
              "      <td>10</td>\n",
              "      <td>0.03</td>\n",
              "      <td>0.03</td>\n",
              "      <td>1001</td>\n",
              "      <td>9.0</td>\n",
              "      <td>49</td>\n",
              "      <td>315</td>\n",
              "      <td>44</td>\n",
              "      <td>14.0</td>\n",
              "    </tr>\n",
              "    <tr>\n",
              "      <th>3</th>\n",
              "      <td>surf</td>\n",
              "      <td>50</td>\n",
              "      <td>15360</td>\n",
              "      <td>500</td>\n",
              "      <td>20</td>\n",
              "      <td>10</td>\n",
              "      <td>0.03</td>\n",
              "      <td>0.03</td>\n",
              "      <td>1001</td>\n",
              "      <td>10.0</td>\n",
              "      <td>65</td>\n",
              "      <td>393</td>\n",
              "      <td>53</td>\n",
              "      <td>22.0</td>\n",
              "    </tr>\n",
              "    <tr>\n",
              "      <th>4</th>\n",
              "      <td>surf</td>\n",
              "      <td>50</td>\n",
              "      <td>15360</td>\n",
              "      <td>500</td>\n",
              "      <td>20</td>\n",
              "      <td>10</td>\n",
              "      <td>0.03</td>\n",
              "      <td>0.03</td>\n",
              "      <td>1001</td>\n",
              "      <td>11.0</td>\n",
              "      <td>64</td>\n",
              "      <td>426</td>\n",
              "      <td>36</td>\n",
              "      <td>19.0</td>\n",
              "    </tr>\n",
              "    <tr>\n",
              "      <th>...</th>\n",
              "      <td>...</td>\n",
              "      <td>...</td>\n",
              "      <td>...</td>\n",
              "      <td>...</td>\n",
              "      <td>...</td>\n",
              "      <td>...</td>\n",
              "      <td>...</td>\n",
              "      <td>...</td>\n",
              "      <td>...</td>\n",
              "      <td>...</td>\n",
              "      <td>...</td>\n",
              "      <td>...</td>\n",
              "      <td>...</td>\n",
              "      <td>...</td>\n",
              "    </tr>\n",
              "    <tr>\n",
              "      <th>2298</th>\n",
              "      <td>surf</td>\n",
              "      <td>50</td>\n",
              "      <td>15360</td>\n",
              "      <td>500</td>\n",
              "      <td>20</td>\n",
              "      <td>10</td>\n",
              "      <td>0.03</td>\n",
              "      <td>0.03</td>\n",
              "      <td>1498</td>\n",
              "      <td>12.0</td>\n",
              "      <td>39</td>\n",
              "      <td>339</td>\n",
              "      <td>0</td>\n",
              "      <td>23.0</td>\n",
              "    </tr>\n",
              "    <tr>\n",
              "      <th>2299</th>\n",
              "      <td>surf</td>\n",
              "      <td>50</td>\n",
              "      <td>15360</td>\n",
              "      <td>500</td>\n",
              "      <td>20</td>\n",
              "      <td>10</td>\n",
              "      <td>0.03</td>\n",
              "      <td>0.03</td>\n",
              "      <td>1499</td>\n",
              "      <td>9.0</td>\n",
              "      <td>41</td>\n",
              "      <td>346</td>\n",
              "      <td>0</td>\n",
              "      <td>13.0</td>\n",
              "    </tr>\n",
              "    <tr>\n",
              "      <th>2300</th>\n",
              "      <td>surf</td>\n",
              "      <td>50</td>\n",
              "      <td>15360</td>\n",
              "      <td>500</td>\n",
              "      <td>20</td>\n",
              "      <td>10</td>\n",
              "      <td>0.03</td>\n",
              "      <td>0.03</td>\n",
              "      <td>1499</td>\n",
              "      <td>10.0</td>\n",
              "      <td>53</td>\n",
              "      <td>385</td>\n",
              "      <td>0</td>\n",
              "      <td>20.0</td>\n",
              "    </tr>\n",
              "    <tr>\n",
              "      <th>2301</th>\n",
              "      <td>surf</td>\n",
              "      <td>50</td>\n",
              "      <td>15360</td>\n",
              "      <td>500</td>\n",
              "      <td>20</td>\n",
              "      <td>10</td>\n",
              "      <td>0.03</td>\n",
              "      <td>0.03</td>\n",
              "      <td>1499</td>\n",
              "      <td>12.0</td>\n",
              "      <td>65</td>\n",
              "      <td>496</td>\n",
              "      <td>0</td>\n",
              "      <td>22.0</td>\n",
              "    </tr>\n",
              "    <tr>\n",
              "      <th>2302</th>\n",
              "      <td>surf</td>\n",
              "      <td>50</td>\n",
              "      <td>15360</td>\n",
              "      <td>500</td>\n",
              "      <td>20</td>\n",
              "      <td>10</td>\n",
              "      <td>0.03</td>\n",
              "      <td>0.03</td>\n",
              "      <td>1499</td>\n",
              "      <td>11.0</td>\n",
              "      <td>45</td>\n",
              "      <td>308</td>\n",
              "      <td>0</td>\n",
              "      <td>17.0</td>\n",
              "    </tr>\n",
              "  </tbody>\n",
              "</table>\n",
              "<p>2303 rows × 14 columns</p>\n",
              "</div>"
            ],
            "text/plain": [
              "     plan_name  messages_included  mb_per_month_included  minutes_included  \\\n",
              "0     ultimate               1000                  30720              3000   \n",
              "1         surf                 50                  15360               500   \n",
              "2         surf                 50                  15360               500   \n",
              "3         surf                 50                  15360               500   \n",
              "4         surf                 50                  15360               500   \n",
              "...        ...                ...                    ...               ...   \n",
              "2298      surf                 50                  15360               500   \n",
              "2299      surf                 50                  15360               500   \n",
              "2300      surf                 50                  15360               500   \n",
              "2301      surf                 50                  15360               500   \n",
              "2302      surf                 50                  15360               500   \n",
              "\n",
              "      usd_monthly_pay  usd_per_gb  usd_per_message  usd_per_minute  user_id  \\\n",
              "0                  70           7             0.01            0.01     1000   \n",
              "1                  20          10             0.03            0.03     1001   \n",
              "2                  20          10             0.03            0.03     1001   \n",
              "3                  20          10             0.03            0.03     1001   \n",
              "4                  20          10             0.03            0.03     1001   \n",
              "...               ...         ...              ...             ...      ...   \n",
              "2298               20          10             0.03            0.03     1498   \n",
              "2299               20          10             0.03            0.03     1499   \n",
              "2300               20          10             0.03            0.03     1499   \n",
              "2301               20          10             0.03            0.03     1499   \n",
              "2302               20          10             0.03            0.03     1499   \n",
              "\n",
              "      month  call_count  total_minutes  total_messages  total_internet  \n",
              "0      12.0          16            124              11             2.0  \n",
              "1       8.0          27            182              30             7.0  \n",
              "2       9.0          49            315              44            14.0  \n",
              "3      10.0          65            393              53            22.0  \n",
              "4      11.0          64            426              36            19.0  \n",
              "...     ...         ...            ...             ...             ...  \n",
              "2298   12.0          39            339               0            23.0  \n",
              "2299    9.0          41            346               0            13.0  \n",
              "2300   10.0          53            385               0            20.0  \n",
              "2301   12.0          65            496               0            22.0  \n",
              "2302   11.0          45            308               0            17.0  \n",
              "\n",
              "[2303 rows x 14 columns]"
            ]
          },
          "execution_count": 32,
          "metadata": {},
          "output_type": "execute_result"
        }
      ],
      "source": [
        "data = pd.merge(plans[['plan_name','messages_included', 'mb_per_month_included', 'minutes_included', 'usd_monthly_pay', 'usd_per_gb', 'usd_per_message', 'usd_per_minute']], data, on='plan_name')\n",
        "data = data.sort_values(by='user_id')\n",
        "data = data.reset_index(drop=True)\n",
        "data\n",
        "#2303"
      ]
    },
    {
      "cell_type": "code",
      "execution_count": null,
      "metadata": {
        "id": "KtSbK5MqOLr3"
      },
      "outputs": [],
      "source": [
        "data['mb_per_month_included'] = data['mb_per_month_included']/1024"
      ]
    },
    {
      "cell_type": "code",
      "execution_count": null,
      "metadata": {
        "id": "D2clSHBlOLr3"
      },
      "outputs": [],
      "source": [
        "# Calcula el ingreso mensual para cada usuario\n",
        "def extra_message(row):\n",
        "    messages_included = row['messages_included']\n",
        "    total_messages = row['total_messages']\n",
        "    usd_per_message = row['usd_per_message']\n",
        "\n",
        "    if total_messages > messages_included:\n",
        "        return (total_messages - messages_included)*usd_per_message\n",
        "    return 0\n",
        "\n",
        "def extra_mb(row):\n",
        "    mb_per_month_included = row['mb_per_month_included']\n",
        "    total_internet = row['total_internet']\n",
        "    usd_per_gb = row['usd_per_gb']\n",
        "\n",
        "    if total_internet > mb_per_month_included:\n",
        "        return (total_internet - mb_per_month_included)*usd_per_gb\n",
        "    return 0\n",
        "\n",
        "def extra_call(row):\n",
        "    minutes_included = row['minutes_included']\n",
        "    total_minutes = row['total_minutes']\n",
        "    usd_per_minute = row['usd_per_minute']\n",
        "\n",
        "    if total_minutes > minutes_included:\n",
        "        return (total_minutes - minutes_included)*usd_per_minute\n",
        "    return 0"
      ]
    },
    {
      "cell_type": "code",
      "execution_count": null,
      "metadata": {
        "id": "hZ_iEs9dOLr3"
      },
      "outputs": [],
      "source": [
        "data['extra_message'] = data.apply(extra_message, axis=1)\n",
        "data['extra_mb'] = data.apply(extra_mb, axis=1)\n",
        "data['extra_call'] = data.apply(extra_call, axis=1)"
      ]
    },
    {
      "cell_type": "markdown",
      "metadata": {
        "id": "w5AR2xvPOLr3"
      },
      "source": [
        "Se agrega una columna llamada \"total_incoming\", la cual muestra el ingreso total por parte de los valores extra y el valor del plan. También se agrega la columna city para cada usuario."
      ]
    },
    {
      "cell_type": "code",
      "execution_count": null,
      "metadata": {
        "id": "U5FEe5XaOLr3",
        "outputId": "a083cda9-4b16-4fc1-9d48-95c395dd4f4d"
      },
      "outputs": [
        {
          "data": {
            "text/html": [
              "<div>\n",
              "<style scoped>\n",
              "    .dataframe tbody tr th:only-of-type {\n",
              "        vertical-align: middle;\n",
              "    }\n",
              "\n",
              "    .dataframe tbody tr th {\n",
              "        vertical-align: top;\n",
              "    }\n",
              "\n",
              "    .dataframe thead th {\n",
              "        text-align: right;\n",
              "    }\n",
              "</style>\n",
              "<table border=\"1\" class=\"dataframe\">\n",
              "  <thead>\n",
              "    <tr style=\"text-align: right;\">\n",
              "      <th></th>\n",
              "      <th>plan_name</th>\n",
              "      <th>messages_included</th>\n",
              "      <th>mb_per_month_included</th>\n",
              "      <th>minutes_included</th>\n",
              "      <th>usd_monthly_pay</th>\n",
              "      <th>usd_per_gb</th>\n",
              "      <th>usd_per_message</th>\n",
              "      <th>usd_per_minute</th>\n",
              "      <th>user_id</th>\n",
              "      <th>month</th>\n",
              "      <th>...</th>\n",
              "      <th>extra_mb</th>\n",
              "      <th>extra_call</th>\n",
              "      <th>total_incoming</th>\n",
              "      <th>first_name</th>\n",
              "      <th>last_name</th>\n",
              "      <th>age</th>\n",
              "      <th>city</th>\n",
              "      <th>reg_date</th>\n",
              "      <th>plan_name_y</th>\n",
              "      <th>churn_date</th>\n",
              "    </tr>\n",
              "  </thead>\n",
              "  <tbody>\n",
              "    <tr>\n",
              "      <th>0</th>\n",
              "      <td>ultimate</td>\n",
              "      <td>1000</td>\n",
              "      <td>30.0</td>\n",
              "      <td>3000</td>\n",
              "      <td>70</td>\n",
              "      <td>7</td>\n",
              "      <td>0.01</td>\n",
              "      <td>0.01</td>\n",
              "      <td>1000</td>\n",
              "      <td>12.0</td>\n",
              "      <td>...</td>\n",
              "      <td>0.0</td>\n",
              "      <td>0.0</td>\n",
              "      <td>70.00</td>\n",
              "      <td>Anamaria</td>\n",
              "      <td>Bauer</td>\n",
              "      <td>45</td>\n",
              "      <td>Atlanta-Sandy Springs-Roswell, GA MSA</td>\n",
              "      <td>2018-12-24</td>\n",
              "      <td>ultimate</td>\n",
              "      <td>active</td>\n",
              "    </tr>\n",
              "    <tr>\n",
              "      <th>1</th>\n",
              "      <td>surf</td>\n",
              "      <td>50</td>\n",
              "      <td>15.0</td>\n",
              "      <td>500</td>\n",
              "      <td>20</td>\n",
              "      <td>10</td>\n",
              "      <td>0.03</td>\n",
              "      <td>0.03</td>\n",
              "      <td>1001</td>\n",
              "      <td>8.0</td>\n",
              "      <td>...</td>\n",
              "      <td>0.0</td>\n",
              "      <td>0.0</td>\n",
              "      <td>20.00</td>\n",
              "      <td>Mickey</td>\n",
              "      <td>Wilkerson</td>\n",
              "      <td>28</td>\n",
              "      <td>Seattle-Tacoma-Bellevue, WA MSA</td>\n",
              "      <td>2018-08-13</td>\n",
              "      <td>surf</td>\n",
              "      <td>active</td>\n",
              "    </tr>\n",
              "    <tr>\n",
              "      <th>2</th>\n",
              "      <td>surf</td>\n",
              "      <td>50</td>\n",
              "      <td>15.0</td>\n",
              "      <td>500</td>\n",
              "      <td>20</td>\n",
              "      <td>10</td>\n",
              "      <td>0.03</td>\n",
              "      <td>0.03</td>\n",
              "      <td>1001</td>\n",
              "      <td>9.0</td>\n",
              "      <td>...</td>\n",
              "      <td>0.0</td>\n",
              "      <td>0.0</td>\n",
              "      <td>20.00</td>\n",
              "      <td>Mickey</td>\n",
              "      <td>Wilkerson</td>\n",
              "      <td>28</td>\n",
              "      <td>Seattle-Tacoma-Bellevue, WA MSA</td>\n",
              "      <td>2018-08-13</td>\n",
              "      <td>surf</td>\n",
              "      <td>active</td>\n",
              "    </tr>\n",
              "    <tr>\n",
              "      <th>3</th>\n",
              "      <td>surf</td>\n",
              "      <td>50</td>\n",
              "      <td>15.0</td>\n",
              "      <td>500</td>\n",
              "      <td>20</td>\n",
              "      <td>10</td>\n",
              "      <td>0.03</td>\n",
              "      <td>0.03</td>\n",
              "      <td>1001</td>\n",
              "      <td>10.0</td>\n",
              "      <td>...</td>\n",
              "      <td>70.0</td>\n",
              "      <td>0.0</td>\n",
              "      <td>90.09</td>\n",
              "      <td>Mickey</td>\n",
              "      <td>Wilkerson</td>\n",
              "      <td>28</td>\n",
              "      <td>Seattle-Tacoma-Bellevue, WA MSA</td>\n",
              "      <td>2018-08-13</td>\n",
              "      <td>surf</td>\n",
              "      <td>active</td>\n",
              "    </tr>\n",
              "    <tr>\n",
              "      <th>4</th>\n",
              "      <td>surf</td>\n",
              "      <td>50</td>\n",
              "      <td>15.0</td>\n",
              "      <td>500</td>\n",
              "      <td>20</td>\n",
              "      <td>10</td>\n",
              "      <td>0.03</td>\n",
              "      <td>0.03</td>\n",
              "      <td>1001</td>\n",
              "      <td>11.0</td>\n",
              "      <td>...</td>\n",
              "      <td>40.0</td>\n",
              "      <td>0.0</td>\n",
              "      <td>60.00</td>\n",
              "      <td>Mickey</td>\n",
              "      <td>Wilkerson</td>\n",
              "      <td>28</td>\n",
              "      <td>Seattle-Tacoma-Bellevue, WA MSA</td>\n",
              "      <td>2018-08-13</td>\n",
              "      <td>surf</td>\n",
              "      <td>active</td>\n",
              "    </tr>\n",
              "    <tr>\n",
              "      <th>...</th>\n",
              "      <td>...</td>\n",
              "      <td>...</td>\n",
              "      <td>...</td>\n",
              "      <td>...</td>\n",
              "      <td>...</td>\n",
              "      <td>...</td>\n",
              "      <td>...</td>\n",
              "      <td>...</td>\n",
              "      <td>...</td>\n",
              "      <td>...</td>\n",
              "      <td>...</td>\n",
              "      <td>...</td>\n",
              "      <td>...</td>\n",
              "      <td>...</td>\n",
              "      <td>...</td>\n",
              "      <td>...</td>\n",
              "      <td>...</td>\n",
              "      <td>...</td>\n",
              "      <td>...</td>\n",
              "      <td>...</td>\n",
              "      <td>...</td>\n",
              "    </tr>\n",
              "    <tr>\n",
              "      <th>2298</th>\n",
              "      <td>surf</td>\n",
              "      <td>50</td>\n",
              "      <td>15.0</td>\n",
              "      <td>500</td>\n",
              "      <td>20</td>\n",
              "      <td>10</td>\n",
              "      <td>0.03</td>\n",
              "      <td>0.03</td>\n",
              "      <td>1498</td>\n",
              "      <td>12.0</td>\n",
              "      <td>...</td>\n",
              "      <td>80.0</td>\n",
              "      <td>0.0</td>\n",
              "      <td>100.00</td>\n",
              "      <td>Scot</td>\n",
              "      <td>Williamson</td>\n",
              "      <td>51</td>\n",
              "      <td>New York-Newark-Jersey City, NY-NJ-PA MSA</td>\n",
              "      <td>2018-02-04</td>\n",
              "      <td>surf</td>\n",
              "      <td>active</td>\n",
              "    </tr>\n",
              "    <tr>\n",
              "      <th>2299</th>\n",
              "      <td>surf</td>\n",
              "      <td>50</td>\n",
              "      <td>15.0</td>\n",
              "      <td>500</td>\n",
              "      <td>20</td>\n",
              "      <td>10</td>\n",
              "      <td>0.03</td>\n",
              "      <td>0.03</td>\n",
              "      <td>1499</td>\n",
              "      <td>9.0</td>\n",
              "      <td>...</td>\n",
              "      <td>0.0</td>\n",
              "      <td>0.0</td>\n",
              "      <td>20.00</td>\n",
              "      <td>Shena</td>\n",
              "      <td>Dickson</td>\n",
              "      <td>37</td>\n",
              "      <td>Orlando-Kissimmee-Sanford, FL MSA</td>\n",
              "      <td>2018-05-06</td>\n",
              "      <td>surf</td>\n",
              "      <td>active</td>\n",
              "    </tr>\n",
              "    <tr>\n",
              "      <th>2300</th>\n",
              "      <td>surf</td>\n",
              "      <td>50</td>\n",
              "      <td>15.0</td>\n",
              "      <td>500</td>\n",
              "      <td>20</td>\n",
              "      <td>10</td>\n",
              "      <td>0.03</td>\n",
              "      <td>0.03</td>\n",
              "      <td>1499</td>\n",
              "      <td>10.0</td>\n",
              "      <td>...</td>\n",
              "      <td>50.0</td>\n",
              "      <td>0.0</td>\n",
              "      <td>70.00</td>\n",
              "      <td>Shena</td>\n",
              "      <td>Dickson</td>\n",
              "      <td>37</td>\n",
              "      <td>Orlando-Kissimmee-Sanford, FL MSA</td>\n",
              "      <td>2018-05-06</td>\n",
              "      <td>surf</td>\n",
              "      <td>active</td>\n",
              "    </tr>\n",
              "    <tr>\n",
              "      <th>2301</th>\n",
              "      <td>surf</td>\n",
              "      <td>50</td>\n",
              "      <td>15.0</td>\n",
              "      <td>500</td>\n",
              "      <td>20</td>\n",
              "      <td>10</td>\n",
              "      <td>0.03</td>\n",
              "      <td>0.03</td>\n",
              "      <td>1499</td>\n",
              "      <td>12.0</td>\n",
              "      <td>...</td>\n",
              "      <td>70.0</td>\n",
              "      <td>0.0</td>\n",
              "      <td>90.00</td>\n",
              "      <td>Shena</td>\n",
              "      <td>Dickson</td>\n",
              "      <td>37</td>\n",
              "      <td>Orlando-Kissimmee-Sanford, FL MSA</td>\n",
              "      <td>2018-05-06</td>\n",
              "      <td>surf</td>\n",
              "      <td>active</td>\n",
              "    </tr>\n",
              "    <tr>\n",
              "      <th>2302</th>\n",
              "      <td>surf</td>\n",
              "      <td>50</td>\n",
              "      <td>15.0</td>\n",
              "      <td>500</td>\n",
              "      <td>20</td>\n",
              "      <td>10</td>\n",
              "      <td>0.03</td>\n",
              "      <td>0.03</td>\n",
              "      <td>1499</td>\n",
              "      <td>11.0</td>\n",
              "      <td>...</td>\n",
              "      <td>20.0</td>\n",
              "      <td>0.0</td>\n",
              "      <td>40.00</td>\n",
              "      <td>Shena</td>\n",
              "      <td>Dickson</td>\n",
              "      <td>37</td>\n",
              "      <td>Orlando-Kissimmee-Sanford, FL MSA</td>\n",
              "      <td>2018-05-06</td>\n",
              "      <td>surf</td>\n",
              "      <td>active</td>\n",
              "    </tr>\n",
              "  </tbody>\n",
              "</table>\n",
              "<p>2303 rows × 25 columns</p>\n",
              "</div>"
            ],
            "text/plain": [
              "     plan_name  messages_included  mb_per_month_included  minutes_included  \\\n",
              "0     ultimate               1000                   30.0              3000   \n",
              "1         surf                 50                   15.0               500   \n",
              "2         surf                 50                   15.0               500   \n",
              "3         surf                 50                   15.0               500   \n",
              "4         surf                 50                   15.0               500   \n",
              "...        ...                ...                    ...               ...   \n",
              "2298      surf                 50                   15.0               500   \n",
              "2299      surf                 50                   15.0               500   \n",
              "2300      surf                 50                   15.0               500   \n",
              "2301      surf                 50                   15.0               500   \n",
              "2302      surf                 50                   15.0               500   \n",
              "\n",
              "      usd_monthly_pay  usd_per_gb  usd_per_message  usd_per_minute  user_id  \\\n",
              "0                  70           7             0.01            0.01     1000   \n",
              "1                  20          10             0.03            0.03     1001   \n",
              "2                  20          10             0.03            0.03     1001   \n",
              "3                  20          10             0.03            0.03     1001   \n",
              "4                  20          10             0.03            0.03     1001   \n",
              "...               ...         ...              ...             ...      ...   \n",
              "2298               20          10             0.03            0.03     1498   \n",
              "2299               20          10             0.03            0.03     1499   \n",
              "2300               20          10             0.03            0.03     1499   \n",
              "2301               20          10             0.03            0.03     1499   \n",
              "2302               20          10             0.03            0.03     1499   \n",
              "\n",
              "      month  ...  extra_mb  extra_call  total_incoming  first_name  \\\n",
              "0      12.0  ...       0.0         0.0           70.00    Anamaria   \n",
              "1       8.0  ...       0.0         0.0           20.00      Mickey   \n",
              "2       9.0  ...       0.0         0.0           20.00      Mickey   \n",
              "3      10.0  ...      70.0         0.0           90.09      Mickey   \n",
              "4      11.0  ...      40.0         0.0           60.00      Mickey   \n",
              "...     ...  ...       ...         ...             ...         ...   \n",
              "2298   12.0  ...      80.0         0.0          100.00        Scot   \n",
              "2299    9.0  ...       0.0         0.0           20.00       Shena   \n",
              "2300   10.0  ...      50.0         0.0           70.00       Shena   \n",
              "2301   12.0  ...      70.0         0.0           90.00       Shena   \n",
              "2302   11.0  ...      20.0         0.0           40.00       Shena   \n",
              "\n",
              "       last_name  age                                       city    reg_date  \\\n",
              "0          Bauer   45      Atlanta-Sandy Springs-Roswell, GA MSA  2018-12-24   \n",
              "1      Wilkerson   28            Seattle-Tacoma-Bellevue, WA MSA  2018-08-13   \n",
              "2      Wilkerson   28            Seattle-Tacoma-Bellevue, WA MSA  2018-08-13   \n",
              "3      Wilkerson   28            Seattle-Tacoma-Bellevue, WA MSA  2018-08-13   \n",
              "4      Wilkerson   28            Seattle-Tacoma-Bellevue, WA MSA  2018-08-13   \n",
              "...          ...  ...                                        ...         ...   \n",
              "2298  Williamson   51  New York-Newark-Jersey City, NY-NJ-PA MSA  2018-02-04   \n",
              "2299     Dickson   37          Orlando-Kissimmee-Sanford, FL MSA  2018-05-06   \n",
              "2300     Dickson   37          Orlando-Kissimmee-Sanford, FL MSA  2018-05-06   \n",
              "2301     Dickson   37          Orlando-Kissimmee-Sanford, FL MSA  2018-05-06   \n",
              "2302     Dickson   37          Orlando-Kissimmee-Sanford, FL MSA  2018-05-06   \n",
              "\n",
              "     plan_name_y churn_date  \n",
              "0       ultimate     active  \n",
              "1           surf     active  \n",
              "2           surf     active  \n",
              "3           surf     active  \n",
              "4           surf     active  \n",
              "...          ...        ...  \n",
              "2298        surf     active  \n",
              "2299        surf     active  \n",
              "2300        surf     active  \n",
              "2301        surf     active  \n",
              "2302        surf     active  \n",
              "\n",
              "[2303 rows x 25 columns]"
            ]
          },
          "execution_count": 36,
          "metadata": {},
          "output_type": "execute_result"
        }
      ],
      "source": [
        "data = data.assign(total_incoming = data['extra_message'] + data['extra_mb'] + data['extra_call'] + data['usd_monthly_pay'])\n",
        "data = pd.merge(data, users, on=['user_id'], how='outer')\n",
        "data = data.rename(columns={'plan_name_x': \"plan_name\"})\n",
        "data"
      ]
    },
    {
      "cell_type": "markdown",
      "metadata": {
        "id": "1jjWvmFbOLr4"
      },
      "source": [
        "## Estudia el comportamiento del usuario"
      ]
    },
    {
      "cell_type": "markdown",
      "metadata": {
        "id": "R6z-u9V4OLr4"
      },
      "source": [
        "### Llamadas"
      ]
    },
    {
      "cell_type": "code",
      "execution_count": null,
      "metadata": {
        "id": "J9xR-IdNOLr4",
        "outputId": "896aa829-7a59-409d-a164-1936d1a3c6f5"
      },
      "outputs": [
        {
          "data": {
            "image/png": "[encoded data removed]",
            "text/plain": [
              "<Figure size 720x432 with 1 Axes>"
            ]
          },
          "metadata": {
            "needs_background": "light"
          },
          "output_type": "display_data"
        }
      ],
      "source": [
        "# Compara la duración promedio de llamadas por cada plan por cada mes. Dibuja una gráfica de barras para visualizarlo.\n",
        "data_call = data.pivot_table(index=['month'],columns = 'plan_name', values = ['total_minutes'], aggfunc='mean')\n",
        "data_call = data_call.rename(columns={'total_minutes': 'mean_minutes'})\n",
        "data_call.plot(kind='bar', figsize=(10,6), grid = True)\n",
        "plt.show()"
      ]
    },
    {
      "cell_type": "markdown",
      "metadata": {
        "id": "fg2u9wPlOLr4"
      },
      "source": [
        "Se observa en el gráfico que el plan Surf tiene una ligera mayor cantidad de minutos utilizados para llamadas a diferencia del plan Ultimate. En el plan Surf se utilizaron mas minutos en el mes de Diciembre, seguido por Julio; en el plan Ultimate, se utilizaron casi en igual medida mas minutos para el mes de Octubre y Diciembre, seguido por Noviembre."
      ]
    },
    {
      "cell_type": "code",
      "execution_count": null,
      "metadata": {
        "id": "5YpSlTltOLr4",
        "outputId": "a4338db2-869b-4a4d-d8a3-736bd2e318bf"
      },
      "outputs": [
        {
          "data": {
            "text/html": [
              "<div>\n",
              "<style scoped>\n",
              "    .dataframe tbody tr th:only-of-type {\n",
              "        vertical-align: middle;\n",
              "    }\n",
              "\n",
              "    .dataframe tbody tr th {\n",
              "        vertical-align: top;\n",
              "    }\n",
              "\n",
              "    .dataframe thead th {\n",
              "        text-align: right;\n",
              "    }\n",
              "</style>\n",
              "<table border=\"1\" class=\"dataframe\">\n",
              "  <thead>\n",
              "    <tr style=\"text-align: right;\">\n",
              "      <th></th>\n",
              "      <th></th>\n",
              "      <th></th>\n",
              "      <th>sum_minutes</th>\n",
              "    </tr>\n",
              "    <tr>\n",
              "      <th>plan_name</th>\n",
              "      <th>user_id</th>\n",
              "      <th>month</th>\n",
              "      <th></th>\n",
              "    </tr>\n",
              "  </thead>\n",
              "  <tbody>\n",
              "    <tr>\n",
              "      <th rowspan=\"5\" valign=\"top\">surf</th>\n",
              "      <th rowspan=\"5\" valign=\"top\">1001</th>\n",
              "      <th>8.0</th>\n",
              "      <td>182</td>\n",
              "    </tr>\n",
              "    <tr>\n",
              "      <th>9.0</th>\n",
              "      <td>315</td>\n",
              "    </tr>\n",
              "    <tr>\n",
              "      <th>10.0</th>\n",
              "      <td>393</td>\n",
              "    </tr>\n",
              "    <tr>\n",
              "      <th>11.0</th>\n",
              "      <td>426</td>\n",
              "    </tr>\n",
              "    <tr>\n",
              "      <th>12.0</th>\n",
              "      <td>412</td>\n",
              "    </tr>\n",
              "    <tr>\n",
              "      <th>...</th>\n",
              "      <th>...</th>\n",
              "      <th>...</th>\n",
              "      <td>...</td>\n",
              "    </tr>\n",
              "    <tr>\n",
              "      <th rowspan=\"5\" valign=\"top\">ultimate</th>\n",
              "      <th rowspan=\"4\" valign=\"top\">1493</th>\n",
              "      <th>9.0</th>\n",
              "      <td>529</td>\n",
              "    </tr>\n",
              "    <tr>\n",
              "      <th>10.0</th>\n",
              "      <td>450</td>\n",
              "    </tr>\n",
              "    <tr>\n",
              "      <th>11.0</th>\n",
              "      <td>500</td>\n",
              "    </tr>\n",
              "    <tr>\n",
              "      <th>12.0</th>\n",
              "      <td>473</td>\n",
              "    </tr>\n",
              "    <tr>\n",
              "      <th>1497</th>\n",
              "      <th>12.0</th>\n",
              "      <td>300</td>\n",
              "    </tr>\n",
              "  </tbody>\n",
              "</table>\n",
              "<p>2303 rows × 1 columns</p>\n",
              "</div>"
            ],
            "text/plain": [
              "                         sum_minutes\n",
              "plan_name user_id month             \n",
              "surf      1001    8.0            182\n",
              "                  9.0            315\n",
              "                  10.0           393\n",
              "                  11.0           426\n",
              "                  12.0           412\n",
              "...                              ...\n",
              "ultimate  1493    9.0            529\n",
              "                  10.0           450\n",
              "                  11.0           500\n",
              "                  12.0           473\n",
              "          1497    12.0           300\n",
              "\n",
              "[2303 rows x 1 columns]"
            ]
          },
          "execution_count": 60,
          "metadata": {},
          "output_type": "execute_result"
        }
      ],
      "source": [
        "# Compara el número de minutos que los usuarios de cada plan requieren cada mes. Traza un histograma.\n",
        "\n",
        "data_call_min = data.pivot_table(index=['plan_name','user_id', 'month'], values = ['total_minutes'], aggfunc='sum')\n",
        "data_call_min = data_call_min.rename(columns={'total_minutes': 'sum_minutes'})\n",
        "data_call_min"
      ]
    },
    {
      "cell_type": "code",
      "execution_count": null,
      "metadata": {
        "id": "TVZ4r2RCOLr4",
        "outputId": "9c915f30-6979-4b6e-96bf-dd19ae85880e"
      },
      "outputs": [
        {
          "data": {
            "image/png": "[encoded data removed]",
            "text/plain": [
              "<Figure size 1296x360 with 2 Axes>"
            ]
          },
          "metadata": {
            "needs_background": "light"
          },
          "output_type": "display_data"
        }
      ],
      "source": [
        "data_call_min.hist(by='plan_name',bins=75, figsize=(18,5))\n",
        "plt.show()"
      ]
    },
    {
      "cell_type": "markdown",
      "metadata": {
        "id": "oDEoLTxSOLr4"
      },
      "source": [
        "El histograma realizado para el plan \"surf\" y \"ultimate\" me señala que ambos tienen una tendencia de crecimiento, en la que, ha medida que avanzan los meses, el consumo de minutos también aumenta, pero el plan en el que las personas consumen mas minutos es el \"surf\", eso quiere decir que posiblemente las personas estan pagando valores extras por el consumo de minutos adicionales, por lo tanto puede ser que les convenga pasarse al plan \"ultimate\" que viene con mas minutos."
      ]
    },
    {
      "cell_type": "code",
      "execution_count": null,
      "metadata": {
        "id": "O0O9ymqYOLr4",
        "outputId": "d3152274-ca85-4208-a2b4-86842ea449c4"
      },
      "outputs": [
        {
          "data": {
            "text/html": [
              "<div>\n",
              "<style scoped>\n",
              "    .dataframe tbody tr th:only-of-type {\n",
              "        vertical-align: middle;\n",
              "    }\n",
              "\n",
              "    .dataframe tbody tr th {\n",
              "        vertical-align: top;\n",
              "    }\n",
              "\n",
              "    .dataframe thead th {\n",
              "        text-align: right;\n",
              "    }\n",
              "</style>\n",
              "<table border=\"1\" class=\"dataframe\">\n",
              "  <thead>\n",
              "    <tr style=\"text-align: right;\">\n",
              "      <th></th>\n",
              "      <th></th>\n",
              "      <th>mean</th>\n",
              "      <th>var</th>\n",
              "      <th>std</th>\n",
              "    </tr>\n",
              "    <tr>\n",
              "      <th>plan_name</th>\n",
              "      <th>month</th>\n",
              "      <th></th>\n",
              "      <th></th>\n",
              "      <th></th>\n",
              "    </tr>\n",
              "  </thead>\n",
              "  <tbody>\n",
              "    <tr>\n",
              "      <th rowspan=\"13\" valign=\"top\">surf</th>\n",
              "      <th>0.0</th>\n",
              "      <td>0.000000</td>\n",
              "      <td>0.000000</td>\n",
              "      <td>0.000000</td>\n",
              "    </tr>\n",
              "    <tr>\n",
              "      <th>1.0</th>\n",
              "      <td>203.000000</td>\n",
              "      <td>15842.000000</td>\n",
              "      <td>125.865007</td>\n",
              "    </tr>\n",
              "    <tr>\n",
              "      <th>2.0</th>\n",
              "      <td>297.000000</td>\n",
              "      <td>52226.500000</td>\n",
              "      <td>228.531179</td>\n",
              "    </tr>\n",
              "    <tr>\n",
              "      <th>3.0</th>\n",
              "      <td>330.000000</td>\n",
              "      <td>35809.363636</td>\n",
              "      <td>189.233622</td>\n",
              "    </tr>\n",
              "    <tr>\n",
              "      <th>4.0</th>\n",
              "      <td>351.540000</td>\n",
              "      <td>50866.743265</td>\n",
              "      <td>225.536567</td>\n",
              "    </tr>\n",
              "    <tr>\n",
              "      <th>5.0</th>\n",
              "      <td>399.584416</td>\n",
              "      <td>59754.219754</td>\n",
              "      <td>244.446763</td>\n",
              "    </tr>\n",
              "    <tr>\n",
              "      <th>6.0</th>\n",
              "      <td>431.298969</td>\n",
              "      <td>45592.628436</td>\n",
              "      <td>213.524304</td>\n",
              "    </tr>\n",
              "    <tr>\n",
              "      <th>7.0</th>\n",
              "      <td>449.983471</td>\n",
              "      <td>61005.099725</td>\n",
              "      <td>246.992105</td>\n",
              "    </tr>\n",
              "    <tr>\n",
              "      <th>8.0</th>\n",
              "      <td>410.111111</td>\n",
              "      <td>54344.645963</td>\n",
              "      <td>233.119381</td>\n",
              "    </tr>\n",
              "    <tr>\n",
              "      <th>9.0</th>\n",
              "      <td>414.226804</td>\n",
              "      <td>46595.958656</td>\n",
              "      <td>215.860971</td>\n",
              "    </tr>\n",
              "    <tr>\n",
              "      <th>10.0</th>\n",
              "      <td>429.729958</td>\n",
              "      <td>52278.664056</td>\n",
              "      <td>228.645280</td>\n",
              "    </tr>\n",
              "    <tr>\n",
              "      <th>11.0</th>\n",
              "      <td>423.325088</td>\n",
              "      <td>51607.021602</td>\n",
              "      <td>227.171789</td>\n",
              "    </tr>\n",
              "    <tr>\n",
              "      <th>12.0</th>\n",
              "      <td>473.836478</td>\n",
              "      <td>63629.518918</td>\n",
              "      <td>252.248923</td>\n",
              "    </tr>\n",
              "    <tr>\n",
              "      <th rowspan=\"13\" valign=\"top\">ultimate</th>\n",
              "      <th>0.0</th>\n",
              "      <td>0.000000</td>\n",
              "      <td>0.000000</td>\n",
              "      <td>0.000000</td>\n",
              "    </tr>\n",
              "    <tr>\n",
              "      <th>1.0</th>\n",
              "      <td>193.500000</td>\n",
              "      <td>16572.333333</td>\n",
              "      <td>128.733575</td>\n",
              "    </tr>\n",
              "    <tr>\n",
              "      <th>2.0</th>\n",
              "      <td>403.142857</td>\n",
              "      <td>76889.476190</td>\n",
              "      <td>277.289517</td>\n",
              "    </tr>\n",
              "    <tr>\n",
              "      <th>3.0</th>\n",
              "      <td>304.250000</td>\n",
              "      <td>61984.931818</td>\n",
              "      <td>248.967732</td>\n",
              "    </tr>\n",
              "    <tr>\n",
              "      <th>4.0</th>\n",
              "      <td>336.857143</td>\n",
              "      <td>34888.928571</td>\n",
              "      <td>186.785783</td>\n",
              "    </tr>\n",
              "    <tr>\n",
              "      <th>5.0</th>\n",
              "      <td>406.241379</td>\n",
              "      <td>43841.046798</td>\n",
              "      <td>209.382537</td>\n",
              "    </tr>\n",
              "    <tr>\n",
              "      <th>6.0</th>\n",
              "      <td>370.957447</td>\n",
              "      <td>42503.563367</td>\n",
              "      <td>206.163924</td>\n",
              "    </tr>\n",
              "    <tr>\n",
              "      <th>7.0</th>\n",
              "      <td>427.067797</td>\n",
              "      <td>72563.374635</td>\n",
              "      <td>269.375898</td>\n",
              "    </tr>\n",
              "    <tr>\n",
              "      <th>8.0</th>\n",
              "      <td>421.436620</td>\n",
              "      <td>53645.506640</td>\n",
              "      <td>231.614997</td>\n",
              "    </tr>\n",
              "    <tr>\n",
              "      <th>9.0</th>\n",
              "      <td>437.511628</td>\n",
              "      <td>57070.464569</td>\n",
              "      <td>238.894254</td>\n",
              "    </tr>\n",
              "    <tr>\n",
              "      <th>10.0</th>\n",
              "      <td>450.735849</td>\n",
              "      <td>54261.910512</td>\n",
              "      <td>232.941861</td>\n",
              "    </tr>\n",
              "    <tr>\n",
              "      <th>11.0</th>\n",
              "      <td>445.196850</td>\n",
              "      <td>60593.222847</td>\n",
              "      <td>246.156907</td>\n",
              "    </tr>\n",
              "    <tr>\n",
              "      <th>12.0</th>\n",
              "      <td>459.099338</td>\n",
              "      <td>62503.783400</td>\n",
              "      <td>250.007567</td>\n",
              "    </tr>\n",
              "  </tbody>\n",
              "</table>\n",
              "</div>"
            ],
            "text/plain": [
              "                       mean           var         std\n",
              "plan_name month                                      \n",
              "surf      0.0      0.000000      0.000000    0.000000\n",
              "          1.0    203.000000  15842.000000  125.865007\n",
              "          2.0    297.000000  52226.500000  228.531179\n",
              "          3.0    330.000000  35809.363636  189.233622\n",
              "          4.0    351.540000  50866.743265  225.536567\n",
              "          5.0    399.584416  59754.219754  244.446763\n",
              "          6.0    431.298969  45592.628436  213.524304\n",
              "          7.0    449.983471  61005.099725  246.992105\n",
              "          8.0    410.111111  54344.645963  233.119381\n",
              "          9.0    414.226804  46595.958656  215.860971\n",
              "          10.0   429.729958  52278.664056  228.645280\n",
              "          11.0   423.325088  51607.021602  227.171789\n",
              "          12.0   473.836478  63629.518918  252.248923\n",
              "ultimate  0.0      0.000000      0.000000    0.000000\n",
              "          1.0    193.500000  16572.333333  128.733575\n",
              "          2.0    403.142857  76889.476190  277.289517\n",
              "          3.0    304.250000  61984.931818  248.967732\n",
              "          4.0    336.857143  34888.928571  186.785783\n",
              "          5.0    406.241379  43841.046798  209.382537\n",
              "          6.0    370.957447  42503.563367  206.163924\n",
              "          7.0    427.067797  72563.374635  269.375898\n",
              "          8.0    421.436620  53645.506640  231.614997\n",
              "          9.0    437.511628  57070.464569  238.894254\n",
              "          10.0   450.735849  54261.910512  232.941861\n",
              "          11.0   445.196850  60593.222847  246.156907\n",
              "          12.0   459.099338  62503.783400  250.007567"
            ]
          },
          "execution_count": 40,
          "metadata": {},
          "output_type": "execute_result"
        }
      ],
      "source": [
        "# Calcula la media y la varianza de la duración mensual de llamadas.\n",
        "call_group = data.groupby(['plan_name', 'month'])['total_minutes'].agg(['mean', 'var', 'std'])\n",
        "call_group"
      ]
    },
    {
      "cell_type": "markdown",
      "metadata": {
        "id": "Tz2G4OAeOLr4"
      },
      "source": [
        "La varianza y la desviación estándar tiene valores bastantes altos, esto se debe a la alta variabilidad en la que los usuarios consumen los minutos."
      ]
    },
    {
      "cell_type": "code",
      "execution_count": null,
      "metadata": {
        "id": "cNc208IaOLr4",
        "outputId": "3f0e966f-4cd7-423a-ee2f-0c86d9cf496b"
      },
      "outputs": [
        {
          "data": {
            "image/png": "[encoded data removed]",
            "text/plain": [
              "<Figure size 648x360 with 1 Axes>"
            ]
          },
          "metadata": {
            "needs_background": "light"
          },
          "output_type": "display_data"
        }
      ],
      "source": [
        "# Traza un diagrama de caja para visualizar la distribución de la duración mensual de llamadas.\n",
        "data_call_min.boxplot(by='plan_name', figsize=(9,5))\n",
        "plt.show()"
      ]
    },
    {
      "cell_type": "markdown",
      "metadata": {
        "id": "BMVNkx0ROLr4"
      },
      "source": [
        "Según el diagrama de cajas, no existe una gran diferencia entre las llamadas realizadas por el plan Surf y Ultimate, la media de llamadas para ambos se encuentra alrededor de 400. En el plan Surf se observa que existen datos atípicos mas altos que en Ultimate y uno de los bigotes tiende a alejarse un poco mas en la parte superior."
      ]
    },
    {
      "cell_type": "markdown",
      "metadata": {
        "id": "6yGn3v8bOLr4"
      },
      "source": [
        ""
      ]
    },
    {
      "cell_type": "markdown",
      "metadata": {
        "id": "GiAKt6caOLr4"
      },
      "source": [
        "### Mensajes"
      ]
    },
    {
      "cell_type": "code",
      "execution_count": null,
      "metadata": {
        "id": "SLeXlj2dOLr4",
        "outputId": "4d067bfd-454e-42b4-f9cf-30b67814457f"
      },
      "outputs": [
        {
          "data": {
            "image/png": "[encoded data removed]",
            "text/plain": [
              "<Figure size 864x432 with 1 Axes>"
            ]
          },
          "metadata": {
            "needs_background": "light"
          },
          "output_type": "display_data"
        }
      ],
      "source": [
        "# Comprara el número de mensajes que tienden a enviar cada mes los usuarios de cada plan\n",
        "#data_mess = data.pivot_table(index=['plan_name', 'user_id', 'month'], values = ['total_messages'], aggfunc='mean')\n",
        "data_mess = data.pivot_table(index=['month'], columns='plan_name', values = ['total_messages'], aggfunc='mean')\n",
        "data_mess = data_mess.rename(columns={'total_messages': 'mean_messages'})\n",
        "data_mess.plot(kind='bar', figsize=(12,6), grid = True)\n",
        "plt.show()"
      ]
    },
    {
      "cell_type": "markdown",
      "metadata": {
        "id": "wccuITW-OLr5"
      },
      "source": [
        "En el siguiente gráfico se observa claramente como los usuarios del plan ultimate consumen una mayor cantidad de mensajes y por lo tanto no tienen que pagar valores extra, a diferencia de los usuarios del plan surf."
      ]
    },
    {
      "cell_type": "code",
      "execution_count": null,
      "metadata": {
        "id": "0_SI8_GuOLr5",
        "outputId": "3f8af1b6-f8cc-4c9a-b8fb-e482294242cd"
      },
      "outputs": [
        {
          "data": {
            "image/png": "[encoded data removed]",
            "text/plain": [
              "<Figure size 1296x360 with 2 Axes>"
            ]
          },
          "metadata": {
            "needs_background": "light"
          },
          "output_type": "display_data"
        }
      ],
      "source": [
        "data_mess1 = data.pivot_table(index=['plan_name', 'month', 'user_id'], values = ['total_messages'], aggfunc='mean')\n",
        "data_mess1.hist(by='plan_name',bins=50, figsize=(18,5))\n",
        "plt.show()"
      ]
    },
    {
      "cell_type": "markdown",
      "metadata": {
        "id": "xPvEUJlkOLr5"
      },
      "source": [
        "En el histograma de mensajes se observa que hay una gran cantidad de usuarios que no ocupa los mensajes, siendo en el plan Surf done hay mas personas que no los ocupa, adicional, hay bastantes datos atípicos en el plan surf, donde hay algunas personas que se exceden en la cantidad de mensajes que puede enviar según su plan. Mientras que en el plan Ultimate los usuarios envian bastantes mensajes, y se encuentran dentro de la cantidad de mensajes que les permite su plan."
      ]
    },
    {
      "cell_type": "code",
      "execution_count": null,
      "metadata": {
        "id": "R7vvQLqfOLr5",
        "outputId": "1aa4bfc4-8e34-44c0-cd27-ef5a0ab930e0"
      },
      "outputs": [
        {
          "data": {
            "text/html": [
              "<div>\n",
              "<style scoped>\n",
              "    .dataframe tbody tr th:only-of-type {\n",
              "        vertical-align: middle;\n",
              "    }\n",
              "\n",
              "    .dataframe tbody tr th {\n",
              "        vertical-align: top;\n",
              "    }\n",
              "\n",
              "    .dataframe thead th {\n",
              "        text-align: right;\n",
              "    }\n",
              "</style>\n",
              "<table border=\"1\" class=\"dataframe\">\n",
              "  <thead>\n",
              "    <tr style=\"text-align: right;\">\n",
              "      <th></th>\n",
              "      <th></th>\n",
              "      <th>mean</th>\n",
              "      <th>var</th>\n",
              "      <th>std</th>\n",
              "    </tr>\n",
              "    <tr>\n",
              "      <th>plan_name</th>\n",
              "      <th>month</th>\n",
              "      <th></th>\n",
              "      <th></th>\n",
              "      <th></th>\n",
              "    </tr>\n",
              "  </thead>\n",
              "  <tbody>\n",
              "    <tr>\n",
              "      <th rowspan=\"13\" valign=\"top\">surf</th>\n",
              "      <th>0.0</th>\n",
              "      <td>0.000000</td>\n",
              "      <td>0.000000</td>\n",
              "      <td>0.000000</td>\n",
              "    </tr>\n",
              "    <tr>\n",
              "      <th>1.0</th>\n",
              "      <td>10.500000</td>\n",
              "      <td>220.500000</td>\n",
              "      <td>14.849242</td>\n",
              "    </tr>\n",
              "    <tr>\n",
              "      <th>2.0</th>\n",
              "      <td>12.000000</td>\n",
              "      <td>386.000000</td>\n",
              "      <td>19.646883</td>\n",
              "    </tr>\n",
              "    <tr>\n",
              "      <th>3.0</th>\n",
              "      <td>15.260870</td>\n",
              "      <td>346.565217</td>\n",
              "      <td>18.616262</td>\n",
              "    </tr>\n",
              "    <tr>\n",
              "      <th>4.0</th>\n",
              "      <td>17.400000</td>\n",
              "      <td>501.591837</td>\n",
              "      <td>22.396246</td>\n",
              "    </tr>\n",
              "    <tr>\n",
              "      <th>5.0</th>\n",
              "      <td>24.012987</td>\n",
              "      <td>847.197198</td>\n",
              "      <td>29.106652</td>\n",
              "    </tr>\n",
              "    <tr>\n",
              "      <th>6.0</th>\n",
              "      <td>25.298969</td>\n",
              "      <td>914.920103</td>\n",
              "      <td>30.247646</td>\n",
              "    </tr>\n",
              "    <tr>\n",
              "      <th>7.0</th>\n",
              "      <td>27.033058</td>\n",
              "      <td>923.915565</td>\n",
              "      <td>30.395979</td>\n",
              "    </tr>\n",
              "    <tr>\n",
              "      <th>8.0</th>\n",
              "      <td>28.777778</td>\n",
              "      <td>1029.515528</td>\n",
              "      <td>32.086064</td>\n",
              "    </tr>\n",
              "    <tr>\n",
              "      <th>9.0</th>\n",
              "      <td>30.762887</td>\n",
              "      <td>1003.829496</td>\n",
              "      <td>31.683268</td>\n",
              "    </tr>\n",
              "    <tr>\n",
              "      <th>10.0</th>\n",
              "      <td>33.839662</td>\n",
              "      <td>1275.465708</td>\n",
              "      <td>35.713663</td>\n",
              "    </tr>\n",
              "    <tr>\n",
              "      <th>11.0</th>\n",
              "      <td>32.385159</td>\n",
              "      <td>1065.344034</td>\n",
              "      <td>32.639608</td>\n",
              "    </tr>\n",
              "    <tr>\n",
              "      <th>12.0</th>\n",
              "      <td>38.600629</td>\n",
              "      <td>1458.158612</td>\n",
              "      <td>38.185843</td>\n",
              "    </tr>\n",
              "    <tr>\n",
              "      <th rowspan=\"13\" valign=\"top\">ultimate</th>\n",
              "      <th>0.0</th>\n",
              "      <td>0.000000</td>\n",
              "      <td>0.000000</td>\n",
              "      <td>0.000000</td>\n",
              "    </tr>\n",
              "    <tr>\n",
              "      <th>1.0</th>\n",
              "      <td>15.500000</td>\n",
              "      <td>313.666667</td>\n",
              "      <td>17.710637</td>\n",
              "    </tr>\n",
              "    <tr>\n",
              "      <th>2.0</th>\n",
              "      <td>21.571429</td>\n",
              "      <td>478.285714</td>\n",
              "      <td>21.869744</td>\n",
              "    </tr>\n",
              "    <tr>\n",
              "      <th>3.0</th>\n",
              "      <td>20.250000</td>\n",
              "      <td>654.386364</td>\n",
              "      <td>25.580977</td>\n",
              "    </tr>\n",
              "    <tr>\n",
              "      <th>4.0</th>\n",
              "      <td>22.047619</td>\n",
              "      <td>544.147619</td>\n",
              "      <td>23.326972</td>\n",
              "    </tr>\n",
              "    <tr>\n",
              "      <th>5.0</th>\n",
              "      <td>32.103448</td>\n",
              "      <td>1297.310345</td>\n",
              "      <td>36.018195</td>\n",
              "    </tr>\n",
              "    <tr>\n",
              "      <th>6.0</th>\n",
              "      <td>29.340426</td>\n",
              "      <td>857.620722</td>\n",
              "      <td>29.285162</td>\n",
              "    </tr>\n",
              "    <tr>\n",
              "      <th>7.0</th>\n",
              "      <td>32.830508</td>\n",
              "      <td>960.488019</td>\n",
              "      <td>30.991741</td>\n",
              "    </tr>\n",
              "    <tr>\n",
              "      <th>8.0</th>\n",
              "      <td>38.478873</td>\n",
              "      <td>1196.367404</td>\n",
              "      <td>34.588544</td>\n",
              "    </tr>\n",
              "    <tr>\n",
              "      <th>9.0</th>\n",
              "      <td>37.895349</td>\n",
              "      <td>1050.918331</td>\n",
              "      <td>32.417871</td>\n",
              "    </tr>\n",
              "    <tr>\n",
              "      <th>10.0</th>\n",
              "      <td>39.443396</td>\n",
              "      <td>1221.106289</td>\n",
              "      <td>34.944331</td>\n",
              "    </tr>\n",
              "    <tr>\n",
              "      <th>11.0</th>\n",
              "      <td>38.606299</td>\n",
              "      <td>1232.669166</td>\n",
              "      <td>35.109389</td>\n",
              "    </tr>\n",
              "    <tr>\n",
              "      <th>12.0</th>\n",
              "      <td>45.006623</td>\n",
              "      <td>1549.419956</td>\n",
              "      <td>39.362672</td>\n",
              "    </tr>\n",
              "  </tbody>\n",
              "</table>\n",
              "</div>"
            ],
            "text/plain": [
              "                      mean          var        std\n",
              "plan_name month                                   \n",
              "surf      0.0     0.000000     0.000000   0.000000\n",
              "          1.0    10.500000   220.500000  14.849242\n",
              "          2.0    12.000000   386.000000  19.646883\n",
              "          3.0    15.260870   346.565217  18.616262\n",
              "          4.0    17.400000   501.591837  22.396246\n",
              "          5.0    24.012987   847.197198  29.106652\n",
              "          6.0    25.298969   914.920103  30.247646\n",
              "          7.0    27.033058   923.915565  30.395979\n",
              "          8.0    28.777778  1029.515528  32.086064\n",
              "          9.0    30.762887  1003.829496  31.683268\n",
              "          10.0   33.839662  1275.465708  35.713663\n",
              "          11.0   32.385159  1065.344034  32.639608\n",
              "          12.0   38.600629  1458.158612  38.185843\n",
              "ultimate  0.0     0.000000     0.000000   0.000000\n",
              "          1.0    15.500000   313.666667  17.710637\n",
              "          2.0    21.571429   478.285714  21.869744\n",
              "          3.0    20.250000   654.386364  25.580977\n",
              "          4.0    22.047619   544.147619  23.326972\n",
              "          5.0    32.103448  1297.310345  36.018195\n",
              "          6.0    29.340426   857.620722  29.285162\n",
              "          7.0    32.830508   960.488019  30.991741\n",
              "          8.0    38.478873  1196.367404  34.588544\n",
              "          9.0    37.895349  1050.918331  32.417871\n",
              "          10.0   39.443396  1221.106289  34.944331\n",
              "          11.0   38.606299  1232.669166  35.109389\n",
              "          12.0   45.006623  1549.419956  39.362672"
            ]
          },
          "execution_count": 44,
          "metadata": {},
          "output_type": "execute_result"
        }
      ],
      "source": [
        "mess_group = data.groupby(['plan_name', 'month'])['total_messages'].agg(['mean', 'var', 'std'])\n",
        "mess_group"
      ]
    },
    {
      "cell_type": "markdown",
      "metadata": {
        "id": "wNTTTI_-OLr5"
      },
      "source": [
        "La media de los valores de los mensajes aumenta de igual forma que en las llamadas, existe una alta varianza y desviación estándar debido a la alta variabilidad entre los datos."
      ]
    },
    {
      "cell_type": "code",
      "execution_count": null,
      "metadata": {
        "id": "gz-WoMGYOLr5",
        "outputId": "6784d07c-db6e-4fcb-eaf5-a17ecdb62d84"
      },
      "outputs": [
        {
          "data": {
            "image/png": "[encoded data removed]",
            "text/plain": [
              "<Figure size 648x360 with 1 Axes>"
            ]
          },
          "metadata": {
            "needs_background": "light"
          },
          "output_type": "display_data"
        }
      ],
      "source": [
        "#data_mess1 = data.pivot_table(index=['plan_name', 'month'], values = ['total_messages'], aggfunc='mean')\n",
        "#data_mess1 = data_mess1.rename(columns={'total_messages': 'mean_messages'})\n",
        "data_mess1.boxplot(by='plan_name', figsize=(9,5))\n",
        "plt.show()"
      ]
    },
    {
      "cell_type": "markdown",
      "metadata": {
        "id": "Y1KO__l8OLr5"
      },
      "source": [
        "El diagrama de cajas nos muestra el comportamiento de los clientes en el consumo de mensajes, indicandonos que en el plan ultimate se ocuparon mas mensajes, por ende la media y los cuartiles son superiores a los del plan surf y con una mayor cantidad de valores atípicos en el plan Surf."
      ]
    },
    {
      "cell_type": "markdown",
      "metadata": {
        "id": "krh0bBeGOLr5"
      },
      "source": [
        "### Internet"
      ]
    },
    {
      "cell_type": "code",
      "execution_count": null,
      "metadata": {
        "id": "jVGr2dQfOLr5",
        "outputId": "a4deeedc-e784-4697-88ee-20bd8d1fedd0"
      },
      "outputs": [
        {
          "data": {
            "image/png": "[encoded data removed]",
            "text/plain": [
              "<Figure size 864x432 with 1 Axes>"
            ]
          },
          "metadata": {
            "needs_background": "light"
          },
          "output_type": "display_data"
        }
      ],
      "source": [
        "# Compara la cantidad de tráfico de internet consumido por usuarios por plan\n",
        "data_int = data.pivot_table(index=['month'], columns='plan_name', values = ['total_internet'], aggfunc='mean')\n",
        "data_int = data_int.rename(columns={'total_internet': 'mean_internet'})\n",
        "data_int.plot(kind='bar', figsize=(12,6), grid = True)\n",
        "plt.show()"
      ]
    },
    {
      "cell_type": "markdown",
      "metadata": {
        "id": "VmJgFKB_OLr5"
      },
      "source": [
        "El consumo de internet durante los primeros meses lo lidera ampliamente el plan ultimate y a medida que pasa el tiempo, se va casi igualando al de surf."
      ]
    },
    {
      "cell_type": "code",
      "execution_count": null,
      "metadata": {
        "id": "tX47L54HOLr5",
        "outputId": "aaee7104-5172-44ff-cf82-c2cda1587266"
      },
      "outputs": [
        {
          "data": {
            "text/html": [
              "<div>\n",
              "<style scoped>\n",
              "    .dataframe tbody tr th:only-of-type {\n",
              "        vertical-align: middle;\n",
              "    }\n",
              "\n",
              "    .dataframe tbody tr th {\n",
              "        vertical-align: top;\n",
              "    }\n",
              "\n",
              "    .dataframe thead th {\n",
              "        text-align: right;\n",
              "    }\n",
              "</style>\n",
              "<table border=\"1\" class=\"dataframe\">\n",
              "  <thead>\n",
              "    <tr style=\"text-align: right;\">\n",
              "      <th></th>\n",
              "      <th></th>\n",
              "      <th>mean</th>\n",
              "      <th>var</th>\n",
              "      <th>std</th>\n",
              "    </tr>\n",
              "    <tr>\n",
              "      <th>plan_name</th>\n",
              "      <th>month</th>\n",
              "      <th></th>\n",
              "      <th></th>\n",
              "      <th></th>\n",
              "    </tr>\n",
              "  </thead>\n",
              "  <tbody>\n",
              "    <tr>\n",
              "      <th rowspan=\"13\" valign=\"top\">surf</th>\n",
              "      <th>0.0</th>\n",
              "      <td>0.000000</td>\n",
              "      <td>0.000000</td>\n",
              "      <td>0.000000</td>\n",
              "    </tr>\n",
              "    <tr>\n",
              "      <th>1.0</th>\n",
              "      <td>5.000000</td>\n",
              "      <td>18.000000</td>\n",
              "      <td>4.242641</td>\n",
              "    </tr>\n",
              "    <tr>\n",
              "      <th>2.0</th>\n",
              "      <td>12.222222</td>\n",
              "      <td>41.444444</td>\n",
              "      <td>6.437736</td>\n",
              "    </tr>\n",
              "    <tr>\n",
              "      <th>3.0</th>\n",
              "      <td>13.565217</td>\n",
              "      <td>63.984190</td>\n",
              "      <td>7.999012</td>\n",
              "    </tr>\n",
              "    <tr>\n",
              "      <th>4.0</th>\n",
              "      <td>12.220000</td>\n",
              "      <td>56.215918</td>\n",
              "      <td>7.497728</td>\n",
              "    </tr>\n",
              "    <tr>\n",
              "      <th>5.0</th>\n",
              "      <td>14.116883</td>\n",
              "      <td>58.183527</td>\n",
              "      <td>7.627813</td>\n",
              "    </tr>\n",
              "    <tr>\n",
              "      <th>6.0</th>\n",
              "      <td>15.484536</td>\n",
              "      <td>47.752363</td>\n",
              "      <td>6.910308</td>\n",
              "    </tr>\n",
              "    <tr>\n",
              "      <th>7.0</th>\n",
              "      <td>16.876033</td>\n",
              "      <td>61.476171</td>\n",
              "      <td>7.840674</td>\n",
              "    </tr>\n",
              "    <tr>\n",
              "      <th>8.0</th>\n",
              "      <td>16.882716</td>\n",
              "      <td>71.420942</td>\n",
              "      <td>8.451091</td>\n",
              "    </tr>\n",
              "    <tr>\n",
              "      <th>9.0</th>\n",
              "      <td>16.690722</td>\n",
              "      <td>49.240639</td>\n",
              "      <td>7.017167</td>\n",
              "    </tr>\n",
              "    <tr>\n",
              "      <th>10.0</th>\n",
              "      <td>17.409283</td>\n",
              "      <td>60.725846</td>\n",
              "      <td>7.792679</td>\n",
              "    </tr>\n",
              "    <tr>\n",
              "      <th>11.0</th>\n",
              "      <td>16.431095</td>\n",
              "      <td>54.607824</td>\n",
              "      <td>7.389711</td>\n",
              "    </tr>\n",
              "    <tr>\n",
              "      <th>12.0</th>\n",
              "      <td>18.238994</td>\n",
              "      <td>69.210841</td>\n",
              "      <td>8.319305</td>\n",
              "    </tr>\n",
              "    <tr>\n",
              "      <th rowspan=\"13\" valign=\"top\">ultimate</th>\n",
              "      <th>0.0</th>\n",
              "      <td>0.000000</td>\n",
              "      <td>0.000000</td>\n",
              "      <td>0.000000</td>\n",
              "    </tr>\n",
              "    <tr>\n",
              "      <th>1.0</th>\n",
              "      <td>7.250000</td>\n",
              "      <td>14.916667</td>\n",
              "      <td>3.862210</td>\n",
              "    </tr>\n",
              "    <tr>\n",
              "      <th>2.0</th>\n",
              "      <td>17.285714</td>\n",
              "      <td>37.904762</td>\n",
              "      <td>6.156684</td>\n",
              "    </tr>\n",
              "    <tr>\n",
              "      <th>3.0</th>\n",
              "      <td>18.416667</td>\n",
              "      <td>138.628788</td>\n",
              "      <td>11.774073</td>\n",
              "    </tr>\n",
              "    <tr>\n",
              "      <th>4.0</th>\n",
              "      <td>16.333333</td>\n",
              "      <td>85.833333</td>\n",
              "      <td>9.264628</td>\n",
              "    </tr>\n",
              "    <tr>\n",
              "      <th>5.0</th>\n",
              "      <td>16.862069</td>\n",
              "      <td>54.194581</td>\n",
              "      <td>7.361697</td>\n",
              "    </tr>\n",
              "    <tr>\n",
              "      <th>6.0</th>\n",
              "      <td>15.425532</td>\n",
              "      <td>68.858464</td>\n",
              "      <td>8.298100</td>\n",
              "    </tr>\n",
              "    <tr>\n",
              "      <th>7.0</th>\n",
              "      <td>16.491525</td>\n",
              "      <td>64.254237</td>\n",
              "      <td>8.015874</td>\n",
              "    </tr>\n",
              "    <tr>\n",
              "      <th>8.0</th>\n",
              "      <td>17.845070</td>\n",
              "      <td>58.047082</td>\n",
              "      <td>7.618864</td>\n",
              "    </tr>\n",
              "    <tr>\n",
              "      <th>9.0</th>\n",
              "      <td>17.011628</td>\n",
              "      <td>47.258687</td>\n",
              "      <td>6.874495</td>\n",
              "    </tr>\n",
              "    <tr>\n",
              "      <th>10.0</th>\n",
              "      <td>17.716981</td>\n",
              "      <td>54.604852</td>\n",
              "      <td>7.389510</td>\n",
              "    </tr>\n",
              "    <tr>\n",
              "      <th>11.0</th>\n",
              "      <td>17.118110</td>\n",
              "      <td>54.390701</td>\n",
              "      <td>7.375005</td>\n",
              "    </tr>\n",
              "    <tr>\n",
              "      <th>12.0</th>\n",
              "      <td>18.397351</td>\n",
              "      <td>58.841060</td>\n",
              "      <td>7.670793</td>\n",
              "    </tr>\n",
              "  </tbody>\n",
              "</table>\n",
              "</div>"
            ],
            "text/plain": [
              "                      mean         var        std\n",
              "plan_name month                                  \n",
              "surf      0.0     0.000000    0.000000   0.000000\n",
              "          1.0     5.000000   18.000000   4.242641\n",
              "          2.0    12.222222   41.444444   6.437736\n",
              "          3.0    13.565217   63.984190   7.999012\n",
              "          4.0    12.220000   56.215918   7.497728\n",
              "          5.0    14.116883   58.183527   7.627813\n",
              "          6.0    15.484536   47.752363   6.910308\n",
              "          7.0    16.876033   61.476171   7.840674\n",
              "          8.0    16.882716   71.420942   8.451091\n",
              "          9.0    16.690722   49.240639   7.017167\n",
              "          10.0   17.409283   60.725846   7.792679\n",
              "          11.0   16.431095   54.607824   7.389711\n",
              "          12.0   18.238994   69.210841   8.319305\n",
              "ultimate  0.0     0.000000    0.000000   0.000000\n",
              "          1.0     7.250000   14.916667   3.862210\n",
              "          2.0    17.285714   37.904762   6.156684\n",
              "          3.0    18.416667  138.628788  11.774073\n",
              "          4.0    16.333333   85.833333   9.264628\n",
              "          5.0    16.862069   54.194581   7.361697\n",
              "          6.0    15.425532   68.858464   8.298100\n",
              "          7.0    16.491525   64.254237   8.015874\n",
              "          8.0    17.845070   58.047082   7.618864\n",
              "          9.0    17.011628   47.258687   6.874495\n",
              "          10.0   17.716981   54.604852   7.389510\n",
              "          11.0   17.118110   54.390701   7.375005\n",
              "          12.0   18.397351   58.841060   7.670793"
            ]
          },
          "execution_count": 47,
          "metadata": {},
          "output_type": "execute_result"
        }
      ],
      "source": [
        "int_group = data.groupby(['plan_name', 'month'])['total_internet'].agg(['mean', 'var', 'std'])\n",
        "int_group"
      ]
    },
    {
      "cell_type": "markdown",
      "metadata": {
        "id": "6hFFTc2fOLr5"
      },
      "source": [
        "Los valores de la tabla anterior aumentan progresivamente a medida que avanzan los meses. Se tiene una varianza bastante alta en comparación al consumo de mensajes y llamadas."
      ]
    },
    {
      "cell_type": "code",
      "execution_count": null,
      "metadata": {
        "id": "sSiqow78OLr5",
        "outputId": "cd481931-0568-47d7-b356-a0892b6a144f"
      },
      "outputs": [
        {
          "data": {
            "image/png": "[encoded data removed]",
            "text/plain": [
              "<Figure size 648x360 with 1 Axes>"
            ]
          },
          "metadata": {
            "needs_background": "light"
          },
          "output_type": "display_data"
        }
      ],
      "source": [
        "data_int1 = data.pivot_table(index=['plan_name', 'month', 'user_id'], values = ['total_internet'], aggfunc='mean')\n",
        "data_int1 = data_int1.rename(columns={'total_internet': 'mean_internet'})\n",
        "data_int1.boxplot(by='plan_name', figsize=(9,5))\n",
        "plt.show()"
      ]
    },
    {
      "cell_type": "markdown",
      "metadata": {
        "id": "v5OECGb5OLr5"
      },
      "source": [
        "El consumo de internet para el plan surf ha ido en aumento a lo largo de los meses, mientras que en ultimate ha tenido pocos valores atípicos en los primeros meses y el resto de meses ha ido en aumento concentrando sus valores en una media de 17500mb usadas."
      ]
    },
    {
      "cell_type": "code",
      "execution_count": null,
      "metadata": {
        "id": "ovzh1sMzOLr5",
        "outputId": "e972f188-6406-4aa9-c2f1-f99b0f003c6a"
      },
      "outputs": [
        {
          "data": {
            "image/png": "[encoded data removed]",
            "text/plain": [
              "<Figure size 1296x360 with 2 Axes>"
            ]
          },
          "metadata": {
            "needs_background": "light"
          },
          "output_type": "display_data"
        }
      ],
      "source": [
        "data_int1.hist(by='plan_name',bins=50, figsize=(18,5))\n",
        "plt.show()"
      ]
    },
    {
      "cell_type": "markdown",
      "metadata": {
        "id": "tvBOXurLOLr5"
      },
      "source": [
        "El gráfico del histograma del internet muestras los usuarios que han consumido el internet, viéndose un distribucion binomial en ambos, pero en el plan Ultimate se encuentra mejor distribuido, y donde hay un consumo mayormente concentrado dentro de lo límites de su plan. Mientras que Surf tiene algunos usuarios quiénes exceden su plan, y se alejan de la media."
      ]
    },
    {
      "cell_type": "markdown",
      "metadata": {
        "id": "241vrC0yOLr5"
      },
      "source": [
        "## Ingreso"
      ]
    },
    {
      "cell_type": "code",
      "execution_count": null,
      "metadata": {
        "id": "OW2lsMncOLr5",
        "outputId": "f433b077-7cf3-44ce-a7b9-d2107532a644"
      },
      "outputs": [
        {
          "name": "stdout",
          "output_type": "stream",
          "text": [
            "          total_incoming           \n",
            "plan_name           surf   ultimate\n",
            "month                              \n",
            "0.0            20.000000  70.000000\n",
            "1.0            20.000000  70.000000\n",
            "2.0            34.396667  70.000000\n",
            "3.0            45.941304  74.666667\n",
            "4.0            40.710600  73.000000\n",
            "5.0            47.628182  70.724138\n",
            "6.0            49.276289  71.638298\n",
            "7.0            62.674050  71.898305\n",
            "8.0            63.931173  72.859155\n",
            "9.0            58.271495  72.034884\n",
            "10.0           65.421224  72.311321\n",
            "11.0           58.004276  71.708661\n",
            "12.0           70.557044  73.291391\n"
          ]
        },
        {
          "data": {
            "image/png": "[encoded data removed]",
            "text/plain": [
              "<Figure size 864x432 with 1 Axes>"
            ]
          },
          "metadata": {
            "needs_background": "light"
          },
          "output_type": "display_data"
        }
      ],
      "source": [
        "data_income = data.pivot_table(index=['month'], columns='plan_name', values = ['total_incoming'], aggfunc='mean')\n",
        "print(data_income)\n",
        "data_income = data_income.rename(columns={'total_incoming': 'mean_incoming'})\n",
        "data_income.plot(kind='bar', figsize=(12,6), grid = True)\n",
        "plt.show()"
      ]
    },
    {
      "cell_type": "markdown",
      "metadata": {
        "id": "v9HYAHYiOLr6"
      },
      "source": [
        "El ingreso por parte del plan ultimate se ha mantenido constante en el valor de $70, el cual es el valor del plan. Mientras que el plan surf ha ido aumentando progresivamente a lo largo de los meses."
      ]
    },
    {
      "cell_type": "code",
      "execution_count": null,
      "metadata": {
        "id": "akvpT5jhOLr6",
        "outputId": "582534ab-9087-4065-8489-d42d6d05d907"
      },
      "outputs": [
        {
          "data": {
            "text/html": [
              "<div>\n",
              "<style scoped>\n",
              "    .dataframe tbody tr th:only-of-type {\n",
              "        vertical-align: middle;\n",
              "    }\n",
              "\n",
              "    .dataframe tbody tr th {\n",
              "        vertical-align: top;\n",
              "    }\n",
              "\n",
              "    .dataframe thead th {\n",
              "        text-align: right;\n",
              "    }\n",
              "</style>\n",
              "<table border=\"1\" class=\"dataframe\">\n",
              "  <thead>\n",
              "    <tr style=\"text-align: right;\">\n",
              "      <th></th>\n",
              "      <th></th>\n",
              "      <th>mean</th>\n",
              "      <th>var</th>\n",
              "      <th>std</th>\n",
              "    </tr>\n",
              "    <tr>\n",
              "      <th>plan_name</th>\n",
              "      <th>month</th>\n",
              "      <th></th>\n",
              "      <th></th>\n",
              "      <th></th>\n",
              "    </tr>\n",
              "  </thead>\n",
              "  <tbody>\n",
              "    <tr>\n",
              "      <th rowspan=\"13\" valign=\"top\">surf</th>\n",
              "      <th>0.0</th>\n",
              "      <td>20.000000</td>\n",
              "      <td>0.000000</td>\n",
              "      <td>0.000000</td>\n",
              "    </tr>\n",
              "    <tr>\n",
              "      <th>1.0</th>\n",
              "      <td>20.000000</td>\n",
              "      <td>0.000000</td>\n",
              "      <td>0.000000</td>\n",
              "    </tr>\n",
              "    <tr>\n",
              "      <th>2.0</th>\n",
              "      <td>34.396667</td>\n",
              "      <td>428.276100</td>\n",
              "      <td>20.694833</td>\n",
              "    </tr>\n",
              "    <tr>\n",
              "      <th>3.0</th>\n",
              "      <td>45.941304</td>\n",
              "      <td>1512.023512</td>\n",
              "      <td>38.884747</td>\n",
              "    </tr>\n",
              "    <tr>\n",
              "      <th>4.0</th>\n",
              "      <td>40.710600</td>\n",
              "      <td>1198.958402</td>\n",
              "      <td>34.625979</td>\n",
              "    </tr>\n",
              "    <tr>\n",
              "      <th>5.0</th>\n",
              "      <td>47.628182</td>\n",
              "      <td>1967.540055</td>\n",
              "      <td>44.356962</td>\n",
              "    </tr>\n",
              "    <tr>\n",
              "      <th>6.0</th>\n",
              "      <td>49.276289</td>\n",
              "      <td>1988.914046</td>\n",
              "      <td>44.597243</td>\n",
              "    </tr>\n",
              "    <tr>\n",
              "      <th>7.0</th>\n",
              "      <td>62.674050</td>\n",
              "      <td>2943.388409</td>\n",
              "      <td>54.253004</td>\n",
              "    </tr>\n",
              "    <tr>\n",
              "      <th>8.0</th>\n",
              "      <td>63.931173</td>\n",
              "      <td>3587.494901</td>\n",
              "      <td>59.895700</td>\n",
              "    </tr>\n",
              "    <tr>\n",
              "      <th>9.0</th>\n",
              "      <td>58.271495</td>\n",
              "      <td>2260.644980</td>\n",
              "      <td>47.546240</td>\n",
              "    </tr>\n",
              "    <tr>\n",
              "      <th>10.0</th>\n",
              "      <td>65.421224</td>\n",
              "      <td>3198.242612</td>\n",
              "      <td>56.553007</td>\n",
              "    </tr>\n",
              "    <tr>\n",
              "      <th>11.0</th>\n",
              "      <td>58.004276</td>\n",
              "      <td>2494.182230</td>\n",
              "      <td>49.941788</td>\n",
              "    </tr>\n",
              "    <tr>\n",
              "      <th>12.0</th>\n",
              "      <td>70.557044</td>\n",
              "      <td>4604.410868</td>\n",
              "      <td>67.855809</td>\n",
              "    </tr>\n",
              "    <tr>\n",
              "      <th rowspan=\"13\" valign=\"top\">ultimate</th>\n",
              "      <th>0.0</th>\n",
              "      <td>70.000000</td>\n",
              "      <td>0.000000</td>\n",
              "      <td>0.000000</td>\n",
              "    </tr>\n",
              "    <tr>\n",
              "      <th>1.0</th>\n",
              "      <td>70.000000</td>\n",
              "      <td>0.000000</td>\n",
              "      <td>0.000000</td>\n",
              "    </tr>\n",
              "    <tr>\n",
              "      <th>2.0</th>\n",
              "      <td>70.000000</td>\n",
              "      <td>0.000000</td>\n",
              "      <td>0.000000</td>\n",
              "    </tr>\n",
              "    <tr>\n",
              "      <th>3.0</th>\n",
              "      <td>74.666667</td>\n",
              "      <td>145.515152</td>\n",
              "      <td>12.062966</td>\n",
              "    </tr>\n",
              "    <tr>\n",
              "      <th>4.0</th>\n",
              "      <td>73.000000</td>\n",
              "      <td>120.400000</td>\n",
              "      <td>10.972693</td>\n",
              "    </tr>\n",
              "    <tr>\n",
              "      <th>5.0</th>\n",
              "      <td>70.724138</td>\n",
              "      <td>15.206897</td>\n",
              "      <td>3.899602</td>\n",
              "    </tr>\n",
              "    <tr>\n",
              "      <th>6.0</th>\n",
              "      <td>71.638298</td>\n",
              "      <td>75.018501</td>\n",
              "      <td>8.661322</td>\n",
              "    </tr>\n",
              "    <tr>\n",
              "      <th>7.0</th>\n",
              "      <td>71.898305</td>\n",
              "      <td>104.472238</td>\n",
              "      <td>10.221166</td>\n",
              "    </tr>\n",
              "    <tr>\n",
              "      <th>8.0</th>\n",
              "      <td>72.859155</td>\n",
              "      <td>154.808451</td>\n",
              "      <td>12.442204</td>\n",
              "    </tr>\n",
              "    <tr>\n",
              "      <th>9.0</th>\n",
              "      <td>72.034884</td>\n",
              "      <td>75.939945</td>\n",
              "      <td>8.714353</td>\n",
              "    </tr>\n",
              "    <tr>\n",
              "      <th>10.0</th>\n",
              "      <td>72.311321</td>\n",
              "      <td>169.606918</td>\n",
              "      <td>13.023322</td>\n",
              "    </tr>\n",
              "    <tr>\n",
              "      <th>11.0</th>\n",
              "      <td>71.708661</td>\n",
              "      <td>94.668416</td>\n",
              "      <td>9.729770</td>\n",
              "    </tr>\n",
              "    <tr>\n",
              "      <th>12.0</th>\n",
              "      <td>73.291391</td>\n",
              "      <td>212.861192</td>\n",
              "      <td>14.589763</td>\n",
              "    </tr>\n",
              "  </tbody>\n",
              "</table>\n",
              "</div>"
            ],
            "text/plain": [
              "                      mean          var        std\n",
              "plan_name month                                   \n",
              "surf      0.0    20.000000     0.000000   0.000000\n",
              "          1.0    20.000000     0.000000   0.000000\n",
              "          2.0    34.396667   428.276100  20.694833\n",
              "          3.0    45.941304  1512.023512  38.884747\n",
              "          4.0    40.710600  1198.958402  34.625979\n",
              "          5.0    47.628182  1967.540055  44.356962\n",
              "          6.0    49.276289  1988.914046  44.597243\n",
              "          7.0    62.674050  2943.388409  54.253004\n",
              "          8.0    63.931173  3587.494901  59.895700\n",
              "          9.0    58.271495  2260.644980  47.546240\n",
              "          10.0   65.421224  3198.242612  56.553007\n",
              "          11.0   58.004276  2494.182230  49.941788\n",
              "          12.0   70.557044  4604.410868  67.855809\n",
              "ultimate  0.0    70.000000     0.000000   0.000000\n",
              "          1.0    70.000000     0.000000   0.000000\n",
              "          2.0    70.000000     0.000000   0.000000\n",
              "          3.0    74.666667   145.515152  12.062966\n",
              "          4.0    73.000000   120.400000  10.972693\n",
              "          5.0    70.724138    15.206897   3.899602\n",
              "          6.0    71.638298    75.018501   8.661322\n",
              "          7.0    71.898305   104.472238  10.221166\n",
              "          8.0    72.859155   154.808451  12.442204\n",
              "          9.0    72.034884    75.939945   8.714353\n",
              "          10.0   72.311321   169.606918  13.023322\n",
              "          11.0   71.708661    94.668416   9.729770\n",
              "          12.0   73.291391   212.861192  14.589763"
            ]
          },
          "execution_count": 51,
          "metadata": {},
          "output_type": "execute_result"
        }
      ],
      "source": [
        "income_group = data.groupby(['plan_name', 'month'])['total_incoming'].agg(['mean', 'var', 'std'])\n",
        "income_group"
      ]
    },
    {
      "cell_type": "markdown",
      "metadata": {
        "id": "kAGWgDiHOLr6"
      },
      "source": [
        "Los valores de la media y varianza para el plan surf tienen una alta varianza por tal motivo son valores altos, a diferencia del plan ultimate, el cual todos sus valores se encuentran cerca a la media de 70, por tal motivo la varianza y desviación estándar son valores pequeños."
      ]
    },
    {
      "cell_type": "code",
      "execution_count": null,
      "metadata": {
        "id": "D_GvetNPOLr6",
        "outputId": "e6acdf3e-d071-47de-8bcf-41317bbce738"
      },
      "outputs": [
        {
          "data": {
            "image/png": "[encoded data removed]",
            "text/plain": [
              "<Figure size 648x360 with 1 Axes>"
            ]
          },
          "metadata": {
            "needs_background": "light"
          },
          "output_type": "display_data"
        }
      ],
      "source": [
        "data_income1 = data.pivot_table(index=['plan_name', 'month'], values = ['total_incoming'], aggfunc='mean')\n",
        "data_income1 = data_income1.rename(columns={'total_incoming': 'mean_incoming'})\n",
        "data_income1.boxplot(by='plan_name', figsize=(9,5))\n",
        "plt.show()"
      ]
    },
    {
      "cell_type": "markdown",
      "metadata": {
        "id": "vVm-oGYEOLr6"
      },
      "source": [
        "Como se observa en el gráfico, la mayor cantidad de ingresos viene por parte de ultimate, en donde se concentran los datos alrededor de 70, el cual es el valor del plan. Mientras que en el plan surf, hay una amplio rango de valoresque van desde 40 hasta los 65 aproximadamente."
      ]
    },
    {
      "cell_type": "code",
      "execution_count": null,
      "metadata": {
        "id": "0zndX0whOLr6",
        "outputId": "c5e1b341-a2bb-4417-adec-271ab3df9343"
      },
      "outputs": [
        {
          "data": {
            "image/png": "[encoded data removed]",
            "text/plain": [
              "<Figure size 1296x360 with 2 Axes>"
            ]
          },
          "metadata": {
            "needs_background": "light"
          },
          "output_type": "display_data"
        }
      ],
      "source": [
        "data_income2 = data.pivot_table(index=['plan_name', 'user_id'], values = ['total_incoming'], aggfunc='mean')\n",
        "data_income2.hist(by='plan_name',bins=50, figsize=(18,5))\n",
        "plt.show()"
      ]
    },
    {
      "cell_type": "markdown",
      "metadata": {
        "id": "_v24QRpqOLr6"
      },
      "source": [
        "el histograma de Ingresos por parte de los usurios del plan Ultimate se mantienen en el valor de 70, el cual es el valor de su plan, mientras que en el plan Surf tiene varios usuarios que cumplen con su plan de 20, pero también hay mas usuarios que tienen valores adicionales como el internet, por tal razón pagan un valor mas alto, por esos cargos extra."
      ]
    },
    {
      "cell_type": "markdown",
      "metadata": {
        "id": "2a5X68PAOLr6"
      },
      "source": [
        "Gracias Carlos por el comentario, ya se realizaron los gráficos."
      ]
    },
    {
      "cell_type": "markdown",
      "metadata": {
        "id": "HhEOCO9VOLr6"
      },
      "source": [
        "## Probar las hipótesis estadísticas."
      ]
    },
    {
      "cell_type": "code",
      "execution_count": null,
      "metadata": {
        "id": "OHzwuP3WOLr6"
      },
      "outputs": [],
      "source": [
        "# Prueba las hipótesis\n",
        "h_surf = data_income.iloc[:, 0]\n",
        "h_ulti = data_income.iloc[:, 1]"
      ]
    },
    {
      "cell_type": "raw",
      "metadata": {
        "id": "Yx6QATyxOLr6"
      },
      "source": [
        "h_surf indica el ingreso promedio de cada mes por parte del plan surf, mientras que h_ulti lo realiza para el plan surf."
      ]
    },
    {
      "cell_type": "code",
      "execution_count": null,
      "metadata": {
        "id": "uXE2u03dOLr6",
        "outputId": "fcf6363f-7fd6-4e77-fcd0-15219757a193"
      },
      "outputs": [
        {
          "name": "stdout",
          "output_type": "stream",
          "text": [
            "p-value:  3.860561408774266e-05\n",
            "Rechazamos la hipótesis nula\n"
          ]
        }
      ],
      "source": [
        "# hipótesis nula = las personas del plan surf solo consumen los $20 de su plan.\n",
        "# hipótesis alternativa = Las personas del plan surf consumen mas de $20.\n",
        "optimal_value = 20\n",
        "\n",
        "alpha =0.05\n",
        "results = st.ttest_1samp(h_surf, optimal_value)\n",
        "\n",
        "print('p-value: ', results.pvalue)\n",
        "\n",
        "if results.pvalue < alpha:\n",
        "    print('Rechazamos la hipótesis nula')\n",
        "else:\n",
        "    print(\"No rechazamos la hipótesis nula\")"
      ]
    },
    {
      "cell_type": "markdown",
      "metadata": {
        "id": "JIOgi1KGOLr6"
      },
      "source": [
        "Se rechaza la hipótesis nula que dice que los clientes del plan surf solo consumen los 20 de su plan, no necesitan mas. Por ende se acepta la hipótesis alternativa en el que los clientes del plan surf consumen mas de $20 porque llegan a necesitar mas mb.\n",
        "Se escogió el alpha 0.05 porque es el valor mas usado y además se escogió este tipo de prueba estadistica porque estamos trabajando con una muestra y comparándola con un valor dado."
      ]
    },
    {
      "cell_type": "code",
      "execution_count": null,
      "metadata": {
        "id": "9pfsJOV4OLr6",
        "outputId": "dbeec724-fed5-415a-96f7-ad13a21a621e"
      },
      "outputs": [
        {
          "name": "stdout",
          "output_type": "stream",
          "text": [
            "p-value: 0.00031427171298590466\n",
            "Rechazamos la hipótesis nula\n"
          ]
        }
      ],
      "source": [
        "# Prueba las hipótesis\n",
        "# Se va a probar la hipótesis de que los usuarios del plan Surf tienen un ingreso igual al de los usuarios del plan Ultimate.\n",
        "\n",
        "alpha = 0.05\n",
        "\n",
        "results = st.ttest_ind(h_surf, h_ulti, equal_var = False )\n",
        "print('p-value:', results.pvalue)\n",
        "\n",
        "if results.pvalue < alpha:\n",
        "    print(\"Rechazamos la hipótesis nula\")\n",
        "else:\n",
        "    print(\"No rechazamos la hipótesis nula\")"
      ]
    },
    {
      "cell_type": "markdown",
      "metadata": {
        "id": "IDZmTHaqOLr7"
      },
      "source": [
        "Según el análisis de la prueba de hipótesis se llega a concluir que los usuarios del plan surf no tienen ingresos parecidos a  los usuarios del plan ultimate, a pesar de que los usuarios del plan surf aumentan su gasto al pasar los meses, los usuarios del plan Ultimate se mantienen en el mismo valor.\n",
        "\n",
        "Se uso este tipo de prueba de hipótesis porque se necesitó comparar las medias de dos poblaciones estadísticas diferentes."
      ]
    },
    {
      "cell_type": "markdown",
      "metadata": {
        "id": "j-Oej-eYOLr7"
      },
      "source": [
        "Gracias Carlos, ya se realizó la prueba de hipótesis."
      ]
    },
    {
      "cell_type": "markdown",
      "metadata": {
        "id": "xuxulrOUOLr7"
      },
      "source": [
        "users_income_ny es la media de ingresos para cada usuario del área NY-NJ"
      ]
    },
    {
      "cell_type": "code",
      "execution_count": null,
      "metadata": {
        "id": "5zJdRvqbOLr7",
        "outputId": "3b0f9e2e-179c-4d05-dc84-1c39165c61e9"
      },
      "outputs": [
        {
          "data": {
            "text/plain": [
              "user_id\n",
              "1014     29.420000\n",
              "1022     56.125000\n",
              "1024     21.920000\n",
              "1027     33.333333\n",
              "1031     70.000000\n",
              "           ...    \n",
              "1469    100.000000\n",
              "1482     70.000000\n",
              "1494     30.625000\n",
              "1495    118.325000\n",
              "1498     77.272727\n",
              "Name: total_incoming, Length: 80, dtype: float64"
            ]
          },
          "execution_count": 57,
          "metadata": {},
          "output_type": "execute_result"
        }
      ],
      "source": [
        "users_income_ny = data[data['city'] == \"New York-Newark-Jersey City, NY-NJ-PA MSA\"]\n",
        "users_income_ny = users_income_ny.groupby('user_id')['total_incoming'].mean()\n",
        "users_income_ny"
      ]
    },
    {
      "cell_type": "markdown",
      "metadata": {
        "id": "B6H1uOcGOLr7"
      },
      "source": [
        "users_nony es la variable que nos indica a los usuarios que se encuentran fuera del área de NY-NJ"
      ]
    },
    {
      "cell_type": "code",
      "execution_count": null,
      "metadata": {
        "id": "PHuIsxvYOLr7",
        "outputId": "63b1b039-173e-43b1-9f8a-a1b604ea4a13"
      },
      "outputs": [
        {
          "data": {
            "text/plain": [
              "user_id\n",
              "1000     70.000000\n",
              "1001     50.018000\n",
              "1002     33.333333\n",
              "1003    158.120000\n",
              "1004     76.250000\n",
              "           ...    \n",
              "1492     25.000000\n",
              "1493     70.000000\n",
              "1496     28.000000\n",
              "1497     70.000000\n",
              "1499     55.000000\n",
              "Name: total_incoming, Length: 420, dtype: float64"
            ]
          },
          "execution_count": 58,
          "metadata": {},
          "output_type": "execute_result"
        }
      ],
      "source": [
        "users_income_nony = data[data['city'] != \"New York-Newark-Jersey City, NY-NJ-PA MSA\"]\n",
        "users_income_nony = users_income_nony.groupby('user_id')['total_incoming'].mean()\n",
        "users_income_nony"
      ]
    },
    {
      "cell_type": "markdown",
      "metadata": {
        "id": "8FlbGE_9OLr7"
      },
      "source": [
        "Gracias Carlos, ya realicé los cambios."
      ]
    },
    {
      "cell_type": "code",
      "execution_count": null,
      "metadata": {
        "id": "Nn4kIDx4OLr7",
        "outputId": "95d21ced-94fe-4d16-88bc-933f90719256"
      },
      "outputs": [
        {
          "name": "stdout",
          "output_type": "stream",
          "text": [
            "p-value: 0.5414712093744904\n",
            "No rechazamos la hipótesis nula\n"
          ]
        }
      ],
      "source": [
        "# Prueba las hipótesis\n",
        "# Se va a probar la hipótesis de que los usuarios del área de NY-NJ tienen un ingreso por parte de los planes\n",
        "#igual al de los usuarios que no se encuentran en esta área.\n",
        "\n",
        "alpha = 0.05\n",
        "\n",
        "results = st.ttest_ind(users_income_ny, users_income_nony, equal_var = False )\n",
        "print('p-value:', results.pvalue)\n",
        "\n",
        "if results.pvalue < alpha:\n",
        "    print(\"Rechazamos la hipótesis nula\")\n",
        "else:\n",
        "    print(\"No rechazamos la hipótesis nula\")"
      ]
    },
    {
      "cell_type": "markdown",
      "metadata": {
        "id": "JIXRaAaMOLr7"
      },
      "source": [
        "Según el análisis de la prueba de hipótesis se llega a concluir que los usuarios del área de NY-NJ tienen un comportamiendo parecido con las otras áreas del país y por ende los ingresos promedios no son diferentes entre ambas áreas.\n",
        "\n",
        "Se uso este tipo de prueba de hipótesis porque se necesitó comparar las medias de dos poblaciones estadísticas diferentes."
      ]
    },
    {
      "cell_type": "markdown",
      "metadata": {
        "id": "sDamp3DBOLr7"
      },
      "source": [
        "## Conclusión general\n",
        "\n",
        "Se realizaron los procesos de carga de datos, de los diferentes datasets que se tenia. Se cambiaron algunos tipos de datos para poder manejar los datos de cada columna. Se trabajó con los datos redondeando sus valores para acoplarlos a como se hacia el cálculo para cada plan. Las tablas se fueron uniendo y acomodando para que se vean de mejor manera y se puedan trabajar los datos fácilmente.\n",
        "\n",
        "Analizando todos los datos que se encontraron en el proyecto se llegó a la conclusión de que las personas a medida que pasan los meses aumentan su consumo en llamadas, mensajes e internet. Los usuarios que cuentan con el plan ultimate, a pesar del aumento en el consumo de su plan, no se vio afectado su bolsillo, porque a la final llegaron a pagar en promedio los 70 que costó su plan. Mientras que los usuarios con el plan Surf aumentaron sus ingresos mensuales debido a que ocuparon mas mensajes, llamadas, internet del que les incluia en su plan. Pero a pesar de eso, el impactó no fue tan alto como para tener la necesidad de pagar por el plan de 70, ya que los valores promedio para cada mes no llegaron a $70, salvo el mes de Diciembre, en el que los ingresos promedios si fueron en promedio 70. Entonces, el plan que le genera mas ingresos a la empresa es el plan \"Surf\" porque hay una mayor cantidad de usuarios que contrató este plan, por ende se tienen que dedicar los esfuerzos de la campaña de marketing hacia este plan."
      ]
    },
    {
      "cell_type": "markdown",
      "metadata": {
        "id": "l6yygm8COLr7"
      },
      "source": [
        "<div class=\"alert alert-block alert-danger\">\n",
        "    \n",
        "# Comentarios generales\n",
        "    \n",
        "<b>Comentario del revisor</b> <a class=\"tocSkip\"></a>\n",
        "    \n",
        "Hola, Bryan. Tenemos un problema con la construcción de la tabla de consumo que debemos solucionar. Una vez se corrijan los problemas apropiadamente continuaremos con la revisión. Recuerda actualizar las conclusiones de ser necesario después de la corrección.\n",
        "</div>"
      ]
    },
    {
      "cell_type": "markdown",
      "metadata": {
        "id": "tPq7W8IKOLr7"
      },
      "source": [
        "<div class=\"alert alert-block alert-danger\">\n",
        "    \n",
        "# Comentarios generales\n",
        "    \n",
        "<b>Comentario del revisor #2</b> <a class=\"tocSkip\"></a>\n",
        "    \n",
        "Buen trabajo, Bryan. Has corregido la construcción de la tabla. Nos quedan unos comentarios pendientes por solucionar en las secciones siguientes y podremos aprobar el proyecto.\n",
        "</div>"
      ]
    },
    {
      "cell_type": "markdown",
      "metadata": {
        "id": "6NvmzwBWOLr7"
      },
      "source": [
        "<div class=\"alert alert-block alert-success\">\n",
        "    \n",
        "# Comentarios generales\n",
        "    \n",
        "<b>Comentario del revisor #2</b> <a class=\"tocSkip\"></a>\n",
        "    \n",
        "Gran trabajo, Bryan. Has corregido todo lo sugerido y has aprobado un nuevo proyecto.\n",
        "    \n",
        "¡Felicitaciones!\n",
        "</div>"
      ]
    }
  ],
  "metadata": {
    "ExecuteTimeLog": [
      {
        "duration": 828,
        "start_time": "2021-11-16T09:21:11.304Z"
      },
      {
        "duration": 893,
        "start_time": "2021-11-16T09:21:17.728Z"
      },
      {
        "duration": 1150,
        "start_time": "2021-11-16T09:21:29.568Z"
      },
      {
        "duration": 3,
        "start_time": "2021-11-16T09:24:14.495Z"
      },
      {
        "duration": 120,
        "start_time": "2021-11-16T09:24:46.630Z"
      },
      {
        "duration": 3,
        "start_time": "2021-11-16T09:28:27.882Z"
      },
      {
        "duration": 4,
        "start_time": "2021-11-16T09:29:54.281Z"
      },
      {
        "duration": 3,
        "start_time": "2021-11-16T09:30:45.936Z"
      },
      {
        "duration": 4,
        "start_time": "2021-11-16T09:31:06.300Z"
      },
      {
        "duration": 113,
        "start_time": "2021-11-16T09:31:37.208Z"
      },
      {
        "duration": 143,
        "start_time": "2021-11-16T09:31:48.656Z"
      },
      {
        "duration": 98,
        "start_time": "2021-11-16T09:31:55.678Z"
      },
      {
        "duration": 3,
        "start_time": "2021-11-16T09:32:08.535Z"
      },
      {
        "duration": 111,
        "start_time": "2021-11-16T09:32:10.120Z"
      },
      {
        "duration": 3,
        "start_time": "2021-11-16T09:32:15.732Z"
      },
      {
        "duration": 4,
        "start_time": "2021-11-16T09:32:29.423Z"
      },
      {
        "duration": 3,
        "start_time": "2021-11-16T10:03:03.074Z"
      },
      {
        "duration": 3,
        "start_time": "2021-11-16T10:10:01.288Z"
      },
      {
        "duration": 3,
        "start_time": "2021-11-16T10:10:46.923Z"
      },
      {
        "duration": 121,
        "start_time": "2021-11-16T10:37:46.494Z"
      },
      {
        "duration": 125,
        "start_time": "2021-11-16T10:38:20.632Z"
      },
      {
        "duration": 112,
        "start_time": "2021-11-16T10:46:53.001Z"
      },
      {
        "duration": 110,
        "start_time": "2021-11-16T10:48:25.775Z"
      },
      {
        "duration": 3,
        "start_time": "2021-11-16T10:50:18.720Z"
      },
      {
        "duration": 4,
        "start_time": "2021-11-16T10:50:37.649Z"
      },
      {
        "duration": 2,
        "start_time": "2021-11-16T10:50:51.884Z"
      },
      {
        "duration": 3,
        "start_time": "2021-11-16T10:51:56.237Z"
      },
      {
        "duration": 101,
        "start_time": "2021-11-16T10:53:13.791Z"
      },
      {
        "duration": 3,
        "start_time": "2021-11-16T10:55:59.186Z"
      },
      {
        "duration": 3,
        "start_time": "2021-11-16T10:56:10.751Z"
      },
      {
        "duration": 3,
        "start_time": "2021-11-16T10:56:49.038Z"
      },
      {
        "duration": 3,
        "start_time": "2021-11-16T10:56:49.174Z"
      },
      {
        "duration": 4,
        "start_time": "2021-11-16T10:56:49.414Z"
      },
      {
        "duration": 3,
        "start_time": "2021-11-16T10:56:49.680Z"
      },
      {
        "duration": 3,
        "start_time": "2021-11-16T10:56:50.370Z"
      },
      {
        "duration": 114,
        "start_time": "2021-11-16T10:59:34.518Z"
      },
      {
        "duration": 3,
        "start_time": "2021-11-16T11:01:41.201Z"
      },
      {
        "duration": 116,
        "start_time": "2021-11-16T11:01:48.754Z"
      },
      {
        "duration": 3,
        "start_time": "2021-11-16T11:02:16.685Z"
      },
      {
        "duration": 3,
        "start_time": "2021-11-16T11:02:19.479Z"
      },
      {
        "duration": 3,
        "start_time": "2021-11-16T11:02:47.067Z"
      },
      {
        "duration": 3,
        "start_time": "2021-11-16T11:02:49.353Z"
      },
      {
        "duration": 3,
        "start_time": "2021-11-16T11:03:07.835Z"
      },
      {
        "duration": 3,
        "start_time": "2021-11-16T11:03:07.953Z"
      },
      {
        "duration": 112,
        "start_time": "2021-11-16T11:07:52.072Z"
      },
      {
        "duration": 187,
        "start_time": "2021-11-16T11:09:23.468Z"
      },
      {
        "duration": 4,
        "start_time": "2021-11-16T11:10:01.455Z"
      },
      {
        "duration": 3,
        "start_time": "2021-11-16T11:10:05.069Z"
      },
      {
        "duration": 4,
        "start_time": "2021-11-16T11:10:13.376Z"
      },
      {
        "duration": 3,
        "start_time": "2021-11-16T11:10:14.434Z"
      },
      {
        "duration": 3,
        "start_time": "2021-11-16T11:10:22.853Z"
      },
      {
        "duration": 4,
        "start_time": "2021-11-16T11:27:29.279Z"
      },
      {
        "duration": 4,
        "start_time": "2021-11-16T11:29:08.919Z"
      },
      {
        "duration": 118,
        "start_time": "2021-11-16T11:29:46.703Z"
      },
      {
        "duration": 437,
        "start_time": "2021-11-16T11:36:02.181Z"
      },
      {
        "duration": 157,
        "start_time": "2021-11-16T11:36:14.388Z"
      },
      {
        "duration": 207,
        "start_time": "2021-11-16T11:47:15.898Z"
      },
      {
        "duration": 3,
        "start_time": "2021-11-16T11:53:52.092Z"
      },
      {
        "duration": 3,
        "start_time": "2021-11-16T11:53:52.236Z"
      },
      {
        "duration": 3,
        "start_time": "2021-11-16T11:59:12.005Z"
      },
      {
        "duration": 112,
        "start_time": "2021-11-16T12:00:33.446Z"
      },
      {
        "duration": 3,
        "start_time": "2021-11-16T12:02:14.453Z"
      },
      {
        "duration": 3,
        "start_time": "2021-11-16T12:02:39.512Z"
      },
      {
        "duration": 106,
        "start_time": "2021-11-16T12:03:03.460Z"
      },
      {
        "duration": 3,
        "start_time": "2021-11-17T20:37:21.139Z"
      },
      {
        "duration": 3,
        "start_time": "2021-11-17T20:37:22.229Z"
      },
      {
        "duration": 3,
        "start_time": "2021-11-17T20:38:38.806Z"
      },
      {
        "duration": 3,
        "start_time": "2021-11-17T20:38:41.958Z"
      },
      {
        "duration": 3,
        "start_time": "2021-11-17T20:43:46.551Z"
      },
      {
        "duration": 4,
        "start_time": "2021-11-17T20:58:21.835Z"
      },
      {
        "duration": 3,
        "start_time": "2021-11-17T20:59:21.872Z"
      },
      {
        "duration": 4,
        "start_time": "2021-11-17T20:59:45.352Z"
      },
      {
        "duration": 4,
        "start_time": "2021-11-17T20:59:49.646Z"
      },
      {
        "duration": 159,
        "start_time": "2021-11-17T21:02:26.949Z"
      },
      {
        "duration": 3,
        "start_time": "2021-11-17T21:03:53.461Z"
      },
      {
        "duration": 3,
        "start_time": "2021-11-17T21:03:53.694Z"
      },
      {
        "duration": 3,
        "start_time": "2021-11-17T21:05:28.145Z"
      },
      {
        "duration": 116,
        "start_time": "2021-11-17T21:05:57.787Z"
      },
      {
        "duration": 3,
        "start_time": "2021-11-17T21:06:37.993Z"
      },
      {
        "duration": 3,
        "start_time": "2021-11-17T21:06:38.261Z"
      },
      {
        "duration": 3,
        "start_time": "2021-11-17T21:11:54.358Z"
      },
      {
        "duration": 3,
        "start_time": "2021-11-17T21:12:43.846Z"
      },
      {
        "duration": 4,
        "start_time": "2021-11-17T21:13:08.773Z"
      },
      {
        "duration": 3,
        "start_time": "2021-11-17T21:14:44.441Z"
      },
      {
        "duration": 3,
        "start_time": "2021-11-17T21:15:42.059Z"
      },
      {
        "duration": 4,
        "start_time": "2021-11-17T21:15:51.995Z"
      },
      {
        "duration": 3,
        "start_time": "2021-11-17T21:15:53.923Z"
      },
      {
        "duration": 3,
        "start_time": "2021-11-17T21:15:55.282Z"
      },
      {
        "duration": 3,
        "start_time": "2021-11-17T21:16:28.492Z"
      },
      {
        "duration": 3,
        "start_time": "2021-11-17T21:16:32.603Z"
      },
      {
        "duration": 3,
        "start_time": "2021-11-17T21:17:06.941Z"
      },
      {
        "duration": 98,
        "start_time": "2021-11-17T21:18:05.733Z"
      },
      {
        "duration": 4,
        "start_time": "2021-11-17T21:21:35.255Z"
      },
      {
        "duration": 3,
        "start_time": "2021-11-17T21:21:37.804Z"
      },
      {
        "duration": 4,
        "start_time": "2021-11-17T21:23:06.071Z"
      },
      {
        "duration": 3,
        "start_time": "2021-11-17T21:23:24.799Z"
      },
      {
        "duration": 3,
        "start_time": "2021-11-17T21:23:32.591Z"
      },
      {
        "duration": 98,
        "start_time": "2021-11-17T21:28:31.559Z"
      },
      {
        "duration": 3,
        "start_time": "2021-11-17T21:28:45.448Z"
      },
      {
        "duration": 3,
        "start_time": "2021-11-17T21:29:17.303Z"
      },
      {
        "duration": 3,
        "start_time": "2021-11-17T21:29:29.617Z"
      },
      {
        "duration": 3,
        "start_time": "2021-11-17T21:29:32.681Z"
      },
      {
        "duration": 3,
        "start_time": "2021-11-17T21:36:11.474Z"
      },
      {
        "duration": 3,
        "start_time": "2021-11-17T21:36:14.791Z"
      },
      {
        "duration": 3,
        "start_time": "2021-11-17T21:36:53.943Z"
      },
      {
        "duration": 3,
        "start_time": "2021-11-17T21:36:56.165Z"
      },
      {
        "duration": 4,
        "start_time": "2021-11-17T21:37:16.590Z"
      },
      {
        "duration": 3,
        "start_time": "2021-11-17T21:37:22.702Z"
      },
      {
        "duration": 4,
        "start_time": "2021-11-17T21:38:03.479Z"
      },
      {
        "duration": 3,
        "start_time": "2021-11-17T21:38:08.601Z"
      },
      {
        "duration": 3,
        "start_time": "2021-11-17T21:38:12.928Z"
      },
      {
        "duration": 3,
        "start_time": "2021-11-17T21:38:48.896Z"
      },
      {
        "duration": 2,
        "start_time": "2021-11-17T21:38:49.171Z"
      },
      {
        "duration": 4,
        "start_time": "2021-11-17T21:39:57.889Z"
      },
      {
        "duration": 3,
        "start_time": "2021-11-17T21:39:58.057Z"
      },
      {
        "duration": 3,
        "start_time": "2021-11-17T21:41:20.108Z"
      },
      {
        "duration": 3,
        "start_time": "2021-11-17T21:41:20.629Z"
      },
      {
        "duration": 3,
        "start_time": "2021-11-17T21:42:49.136Z"
      },
      {
        "duration": 3,
        "start_time": "2021-11-17T21:43:15.137Z"
      },
      {
        "duration": 4,
        "start_time": "2021-11-17T21:43:16.766Z"
      },
      {
        "duration": 4,
        "start_time": "2021-11-17T21:43:31.711Z"
      },
      {
        "duration": 3,
        "start_time": "2021-11-17T21:43:36.312Z"
      },
      {
        "duration": 4,
        "start_time": "2021-11-17T21:45:08.825Z"
      },
      {
        "duration": 4,
        "start_time": "2021-11-17T21:45:10.119Z"
      },
      {
        "duration": 4,
        "start_time": "2021-11-17T21:45:13.748Z"
      },
      {
        "duration": 3,
        "start_time": "2021-11-17T21:45:22.219Z"
      },
      {
        "duration": 3,
        "start_time": "2021-11-17T21:45:33.412Z"
      },
      {
        "duration": 2,
        "start_time": "2021-11-17T21:46:01.885Z"
      },
      {
        "duration": 3,
        "start_time": "2021-11-17T21:46:03.628Z"
      },
      {
        "duration": 107,
        "start_time": "2021-11-17T21:47:32.512Z"
      },
      {
        "duration": 103,
        "start_time": "2021-11-17T21:50:36.243Z"
      },
      {
        "duration": 3,
        "start_time": "2021-11-18T06:28:31.440Z"
      },
      {
        "duration": 3,
        "start_time": "2021-11-18T06:29:00.168Z"
      },
      {
        "duration": 3,
        "start_time": "2021-11-18T06:31:27.008Z"
      },
      {
        "duration": 2,
        "start_time": "2021-11-18T06:35:34.288Z"
      },
      {
        "duration": 2,
        "start_time": "2021-11-18T06:38:04.527Z"
      }
    ],
    "kernelspec": {
      "display_name": "Python 3 (ipykernel)",
      "language": "python",
      "name": "python3"
    },
    "language_info": {
      "codemirror_mode": {
        "name": "ipython",
        "version": 3
      },
      "file_extension": ".py",
      "mimetype": "text/x-python",
      "name": "python",
      "nbconvert_exporter": "python",
      "pygments_lexer": "ipython3",
      "version": "3.9.5"
    },
    "toc": {
      "base_numbering": 1,
      "nav_menu": {},
      "number_sections": true,
      "sideBar": true,
      "skip_h1_title": false,
      "title_cell": "Table of Contents",
      "title_sidebar": "Contents",
      "toc_cell": false,
      "toc_position": {
        "height": "calc(100% - 180px)",
        "left": "10px",
        "top": "150px",
        "width": "165px"
      },
      "toc_section_display": true,
      "toc_window_display": false
    },
    "colab": {
      "provenance": []
    }
  },
  "nbformat": 4,
  "nbformat_minor": 0
}